{
 "cells": [
  {
   "cell_type": "code",
   "execution_count": 2,
   "metadata": {},
   "outputs": [],
   "source": [
    "from scipy import stats\n",
    "import numpy as np\n",
    "import matplotlib.pyplot as plt"
   ]
  },
  {
   "cell_type": "code",
   "execution_count": 3,
   "metadata": {},
   "outputs": [],
   "source": [
    "votes = np.array([25,30,45])\n",
    "\n",
    "alphas = np.array([1,1,1])\n",
    "\n",
    "# unitform prior : dirichlet with a = (1,1,1)\n",
    "prior = stats.dirichlet(alphas)\n",
    "\n",
    "# posterior = a_prior + xs\n",
    "posterior = stats.dirichlet((alphas + votes))"
   ]
  },
  {
   "cell_type": "code",
   "execution_count": 4,
   "metadata": {},
   "outputs": [],
   "source": [
    "data = np.loadtxt('https://gist.githubusercontent.com/cscheffler/482412b75d7b7c8ab83dd86e81d71403/raw/9ed65a9d2bb8455e4b225400f57f2d77f851aec9/socialmobility.csv', dtype = 'object', delimiter=',' )"
   ]
  },
  {
   "cell_type": "code",
   "execution_count": 5,
   "metadata": {},
   "outputs": [],
   "source": [
    "mobility = data[0:,]\n",
    "\n",
    "alphas = np.array([1,1,1,1])\n",
    "\n",
    "# son | father prof\n",
    "s = np.array([61, 749, 1183, 3315])\n",
    "s_lab = ['farm', 'skilled', 'unskilled', 'professional']\n",
    "\n",
    "\n",
    "#father | son prof\n",
    "f = np.array([1109, 1568, 2483, 3315])\n",
    "f_lab = ['farm', 'unskilled', 'skilled', 'professional']\n",
    "\n",
    "f_post = stats.dirichlet(alphas + f )\n",
    "s_post = stats.dirichlet(alphas + s)"
   ]
  },
  {
   "cell_type": "code",
   "execution_count": 6,
   "metadata": {},
   "outputs": [
    {
     "data": {
      "text/plain": [
       "<BarContainer object of 4 artists>"
      ]
     },
     "execution_count": 6,
     "metadata": {},
     "output_type": "execute_result"
    },
    {
     "data": {
      "image/png": "[encoded data removed]",
      "text/plain": [
       "<Figure size 432x288 with 1 Axes>"
      ]
     },
     "metadata": {
      "needs_background": "light"
     },
     "output_type": "display_data"
    }
   ],
   "source": [
    "plt.bar(f_lab, f_post.rvs()[0])"
   ]
  },
  {
   "cell_type": "code",
   "execution_count": 7,
   "metadata": {},
   "outputs": [
    {
     "data": {
      "text/plain": [
       "<matplotlib.collections.PathCollection at 0x7fad970e9880>"
      ]
     },
     "execution_count": 7,
     "metadata": {},
     "output_type": "execute_result"
    },
    {
     "data": {
      "image/png": "[encoded data removed]",
      "text/plain": [
       "<Figure size 432x288 with 1 Axes>"
      ]
     },
     "metadata": {
      "needs_background": "light"
     },
     "output_type": "display_data"
    }
   ],
   "source": [
    "#plt.bar(s_lab, s_post.rvs()[0])\n",
    "\n",
    "\n",
    "samples = 1000\n",
    "\n",
    "plt.scatter(x = s_lab*samples, y = s_post.rvs(samples), alpha = 0.1)"
   ]
  },
  {
   "cell_type": "code",
   "execution_count": 8,
   "metadata": {},
   "outputs": [
    {
     "data": {
      "text/plain": [
       "(array([0.12376959, 0.1382083 ]), array([0.21188728, 0.23418237]))"
      ]
     },
     "execution_count": 8,
     "metadata": {},
     "output_type": "execute_result"
    }
   ],
   "source": [
    "np.percentile(f_post.rvs(100000)[:, 0], [2.5, 97.5]), np.percentile(s_post.rvs(100000)[:, 2], [2.5, 97.5])"
   ]
  },
  {
   "cell_type": "code",
   "execution_count": 9,
   "metadata": {},
   "outputs": [
    {
     "data": {
      "text/plain": [
       "array([['father', 'son', 'count'],\n",
       "       ['farm', 'farm', '703'],\n",
       "       ['farm', 'unskilled', '1478'],\n",
       "       ['farm', 'skilled', '1430'],\n",
       "       ['farm', 'professional', '1109'],\n",
       "       ['unskilled', 'farm', '58'],\n",
       "       ['unskilled', 'unskilled', '1756'],\n",
       "       ['unskilled', 'skilled', '1630'],\n",
       "       ['unskilled', 'professional', '1568'],\n",
       "       ['skilled', 'farm', '63'],\n",
       "       ['skilled', 'unskilled', '1453'],\n",
       "       ['skilled', 'skilled', '2068'],\n",
       "       ['skilled', 'professional', '2483'],\n",
       "       ['professional', 'farm', '61'],\n",
       "       ['professional', 'unskilled', '749'],\n",
       "       ['professional', 'skilled', '1183'],\n",
       "       ['professional', 'professional', '3315']], dtype=object)"
      ]
     },
     "execution_count": 9,
     "metadata": {},
     "output_type": "execute_result"
    }
   ],
   "source": [
    "mobility"
   ]
  }
 ],
 "metadata": {
  "interpreter": {
   "hash": "40d3a090f54c6569ab1632332b64b2c03c39dcf918b08424e98f38b5ae0af88f"
  },
  "kernelspec": {
   "display_name": "Python 3.8.5 64-bit ('base': conda)",
   "name": "python3"
  },
  "language_info": {
   "codemirror_mode": {
    "name": "ipython",
    "version": 3
   },
   "file_extension": ".py",
   "mimetype": "text/x-python",
   "name": "python",
   "nbconvert_exporter": "python",
   "pygments_lexer": "ipython3",
   "version": "3.8.5"
  },
  "orig_nbformat": 4
 },
 "nbformat": 4,
 "nbformat_minor": 2
}
