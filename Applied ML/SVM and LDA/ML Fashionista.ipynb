{
 "cells": [
  {
   "cell_type": "markdown",
   "metadata": {},
   "source": [
    "## Introduction\n",
    "\n",
    "In this assignment, three kinds of Linear Support Vector Classifiers will be trained to classify Shirts and Jerseys from the ImageNet database. The first will be trained on full images (i.e. flattened `64px x 64px` RGB images, with `64 * 64 * 128 = 12,288` dimensions each), the second will be trained on a PCA-reduced representation (with 561 dimensions), while the third is trained on an LDA-representation (with just 1 dimensions, as there are only 2 class labels). We first import all available images, resize and cohere to a format that sk-learn respects,"
   ]
  },
  {
   "cell_type": "code",
   "execution_count": 4,
   "metadata": {},
   "outputs": [],
   "source": [
    "shirts = glob(\"../18/Shirts/*\") # 0 \n",
    "jerseys  = glob(\"../18/Jerseys/*\") # 1 "
   ]
  },
  {
   "cell_type": "code",
   "execution_count": 5,
   "metadata": {},
   "outputs": [],
   "source": [
    "WIDTH = 64\n",
    "HEIGHT = WIDTH\n",
    "LABELS = ['jerseys', 'shirts']\n",
    "\n",
    "# Array to hold training images\n",
    "imgs = []\n",
    "# Get target labels for LDA\n",
    "y = []\n",
    "\n",
    "def preprocess_clothing(dir, label):\n",
    "\n",
    "    global imgs, y\n",
    "\n",
    "    for img_path in dir:\n",
    "        img = image.load_img(img_path, target_size=(WIDTH, HEIGHT))\n",
    "        x = image.img_to_array(img)\n",
    "        # Augment (size, size) to (samples, sizes, sizes)\n",
    "        x = np.expand_dims(x, axis=0)\n",
    "        \n",
    "        imgs.append(x)\n",
    "        y.append(label)\n",
    "\n",
    "\n",
    "preprocess_clothing(shirts, label = 1)\n",
    "preprocess_clothing(jerseys, label = 0)\n",
    "\n",
    "imgs = np.vstack(imgs)\n",
    "y = np.vstack(y)\n",
    "\n",
    "# Complete preprocessing by flattening imgs\n",
    "imgs_flat = imgs.reshape(len(imgs), WIDTH*HEIGHT*3)\n",
    "\n",
    "# Rescale to help with optimization\n",
    "scale  = StandardScaler().fit(imgs_flat)\n",
    "\n",
    "imgs_flat = scale.transform(imgs_flat)\n",
    "\n",
    "# Split into train/validation set\n",
    "X_train, X_test, y_train, y_test = train_test_split(imgs_flat, y, test_size = 0.2)\n",
    "\n",
    "# 2802, 12288\n",
    "assert X_train.shape[0] + X_test.shape[0] == len(shirts) + len(jerseys), \"Mangled Sizing\""
   ]
  },
  {
   "cell_type": "markdown",
   "metadata": {},
   "source": [
    "## Basic SVC\n",
    "We have an input matrix X with size (2,802, 12,288) - a total of 2802 images. We can now initialize the 'basic SVC' model with the best parameters and fit the model to the input data: flattened pixel data of jerseys and shirts,"
   ]
  },
  {
   "cell_type": "code",
   "execution_count": null,
   "metadata": {},
   "outputs": [],
   "source": [
    "# Fit SVM model with linear kernel, default hyperparameters\n",
    "start = time()\n",
    "svm_base = svm.LinearSVC()\n",
    "svm_base.fit(X_train, y_train.ravel())\n",
    "stop = time()\n",
    "\n",
    "training_time = round(stop - start, 2)"
   ]
  },
  {
   "cell_type": "code",
   "execution_count": 13,
   "metadata": {},
   "outputs": [
    {
     "name": "stdout",
     "output_type": "stream",
     "text": [
      "Test Accuracy Score: 0.5490196078431373 \n",
      " Train Accuracy Score: 0.9580544399821508 \n",
      " Training Time: 54.54s\n"
     ]
    },
    {
     "data": {
      "text/plain": [
       "<Figure size 360x360 with 0 Axes>"
      ]
     },
     "metadata": {},
     "output_type": "display_data"
    },
    {
     "data": {
      "image/png": "[encoded data removed]",
      "text/plain": [
       "<Figure size 432x288 with 2 Axes>"
      ]
     },
     "metadata": {
      "needs_background": "light"
     },
     "output_type": "display_data"
    }
   ],
   "source": [
    "# Score basic linear kernel and show training time\n",
    "print(\n",
    "    \"Test Accuracy Score:\",  accuracy_score(y_test.ravel(), svm_base.predict(X_test)), '\\n',\n",
    "    \"Train Accuracy Score:\", accuracy_score(y_train.ravel(), svm_base.predict(X_train)), '\\n',\n",
    "    \"Training Time:\", f'{training_time}s'\n",
    ")\n",
    "\n",
    "# Show confusion matrix for test set\n",
    "show_cm(y_test, svm_base, X_test)"
   ]
  },
  {
   "cell_type": "markdown",
   "metadata": {},
   "source": [
    "After a training time of about 54 seconds, the basic SVC performs extremely well on the training set, with an overall accuracy of 95.8%. However, the strong contrast with the test set accuracy of 54.9% evinces a problem of overfitting. It seems that the classifier is learning \"noise\" in the images (creases, background elements - though these examples are lax abstractions over what actually happens) as discrenible traits of jerseys and shirts. This sense of overfitting is reinforced by the large number of support vectors relative to the total samples (1674 : 2802). From the confusion matrix plot, we also find that the model classifies jerseys modestly better than it does shirts (52.4% vs 57%). "
   ]
  },
  {
   "cell_type": "markdown",
   "metadata": {},
   "source": [
    "## PCA-Representation SVC\n",
    "\n",
    "The process of dimensionality reduction is, in a sense, a process of feature summarization. To combat the problem of overfitting that assails the basic SVC above, we can train another SVC on data that is PCA-reduced. \n",
    "\n",
    "The quality of a PCA in describing the original data (ie total explained variance ratio) increases monotonically with the number of principal components, albeit at a decreasing rate. We want the explained variance ratio to be high, about 95%, which neatly corresponds to the number of samples in the test set,\n",
    "\n",
    "(Note: this is not a rationale. The author just likes coincidences.)"
   ]
  },
  {
   "cell_type": "code",
   "execution_count": 14,
   "metadata": {},
   "outputs": [
    {
     "data": {
      "text/plain": [
       "((2241, 561), 0.94)"
      ]
     },
     "execution_count": 14,
     "metadata": {},
     "output_type": "execute_result"
    }
   ],
   "source": [
    "# Transform to PCA representation, with as many components as possible\n",
    "N_COMPONENTS = X_test.shape[0]\n",
    "\n",
    "pca = PCA(n_components = N_COMPONENTS)\n",
    "X_pca = pca.fit_transform(X_train)\n",
    "\n",
    "# 12,288 -> 561 features\n",
    "X_pca.shape, round(sum(pca.explained_variance_ratio_),2)"
   ]
  },
  {
   "cell_type": "markdown",
   "metadata": {},
   "source": [
    "An image's representation has been reduced from 12,288 dimensions to just 561. Our hope is that these new components capture the \"essence\" of jerseys and shirts. Before fitting, we scan for the best hyperparameters,"
   ]
  },
  {
   "cell_type": "code",
   "execution_count": null,
   "metadata": {},
   "outputs": [],
   "source": [
    "params = {\n",
    "    'C' : (1e-5, 1e-3, 1e-1, 1, 10),\n",
    "    'tol': [1e-5, 1e-3],\n",
    "    'max_iter': [10000]\n",
    "}\n",
    "\n",
    "clf_pca = GridSearchCV(svm.LinearSVC(), params, scoring = 'accuracy')\n",
    "clf_pca.fit(X_pca, y_train.ravel())"
   ]
  },
  {
   "cell_type": "code",
   "execution_count": 24,
   "metadata": {},
   "outputs": [
    {
     "data": {
      "image/png": "[encoded data removed]",
      "text/plain": [
       "<Figure size 648x216 with 2 Axes>"
      ]
     },
     "metadata": {
      "needs_background": "light"
     },
     "output_type": "display_data"
    }
   ],
   "source": [
    "plot_paramsearch(clf_pca)"
   ]
  },
  {
   "cell_type": "markdown",
   "metadata": {},
   "source": [
    "As we increase the C parameter, the model takes longer to train. Simultaneously, the training accuracy falls. We now fit the model with the best hyperparameters,"
   ]
  },
  {
   "cell_type": "code",
   "execution_count": 20,
   "metadata": {},
   "outputs": [],
   "source": [
    "best_params  = clf_pca.best_estimator_.get_params()\n",
    "\n",
    "svm_pca = svm.LinearSVC(\n",
    "    **best_params)\n",
    "\n",
    "start = time()\n",
    "svm_pca.fit(X_pca, y_train.ravel())\n",
    "stop = time()\n",
    "\n",
    "pca_time = round(stop - start, 2)"
   ]
  },
  {
   "cell_type": "code",
   "execution_count": 21,
   "metadata": {},
   "outputs": [
    {
     "name": "stdout",
     "output_type": "stream",
     "text": [
      "Test Accuracy Score: 0.5971479500891266 \n",
      " Train Accuracy Score: 0.6880856760374833 \n",
      " Training Time: 0.07s\n"
     ]
    },
    {
     "data": {
      "text/plain": [
       "<Figure size 360x360 with 0 Axes>"
      ]
     },
     "metadata": {},
     "output_type": "display_data"
    },
    {
     "data": {
      "image/png": "[encoded data removed]",
      "text/plain": [
       "<Figure size 432x288 with 2 Axes>"
      ]
     },
     "metadata": {
      "needs_background": "light"
     },
     "output_type": "display_data"
    }
   ],
   "source": [
    "# Linear transform test data with principal components\n",
    "X_test_pca = pca.transform(X_test)\n",
    "\n",
    "# Score PCA-linear SVM and show training time\n",
    "print(\n",
    "    \"Test Accuracy Score:\",  accuracy_score(y_test.ravel(), svm_pca.predict(X_test_pca)), '\\n',\n",
    "    \"Train Accuracy Score:\", accuracy_score(y_train.ravel(), svm_pca.predict(X_pca)), '\\n',\n",
    "    \"Training Time:\", f'{pca_time}s'\n",
    ")\n",
    "\n",
    "# Show confusion matrix\n",
    "show_cm(y_test, svm_pca, X_test_pca)"
   ]
  },
  {
   "cell_type": "markdown",
   "metadata": {},
   "source": [
    "With substantially smaller training data, the PCA-model trains in just 0.07s. The closer alignment between test and training accuracy (59.7% and 68.8% respectively) indicates that the model is not as overfit and presumably learned good discriminants between jerseys and shirts. \n",
    "\n",
    "Specifically, it seems to classify Shirts (65.1%) better than Jerseys (53.6%) in the test set. These performance results on the test set outperform the basic SVC, both in terms of mean accuracy (59.7% vs 55.6%) and individual class predictions. "
   ]
  },
  {
   "cell_type": "markdown",
   "metadata": {},
   "source": [
    "## LDA-Representation SVC\n",
    "\n",
    "The LDA is a *supervised* form of dimensionality reduction by incorporating class labels into the reduction process. By assuming a linear boundary to separate classes modeled by Gaussian densities, the technique is, in a sense, a classifier. At the same time, it can also be viewed as an extreme compressor, reducing the dimensionality to `1 - n_classes`, which here is just 1,"
   ]
  },
  {
   "cell_type": "code",
   "execution_count": 25,
   "metadata": {},
   "outputs": [
    {
     "data": {
      "text/plain": [
       "(2241, 1)"
      ]
     },
     "execution_count": 25,
     "metadata": {},
     "output_type": "execute_result"
    }
   ],
   "source": [
    "# Transform to LDA representation\n",
    "lda = LinearDiscriminantAnalysis()\n",
    "X_lda = lda.fit_transform(X_train, y_train.ravel())\n",
    "\n",
    "X_lda.shape\n",
    "# print(pd.DataFrame(np.hstack((X_lda[0:5], y_train[0:5]))).to_latex())"
   ]
  },
  {
   "cell_type": "markdown",
   "metadata": {},
   "source": [
    "Sampling the first few LDA-representations of training images against their class labels,\n",
    "we can see that positive representations correspond to 1, while negative representations correspond to 0,\n",
    "\n",
    "$$\n",
    "\\begin{tabular}{lrr}\n",
    "\\toprule\n",
    "{Sample} &   LDA-Representation &    Class Label \\\\\n",
    "\\midrule\n",
    "0 &  4.405935 &  1.0 \\\\\n",
    "1 &  4.405935 &  1.0 \\\\\n",
    "2 & -4.847767 &  0.0 \\\\\n",
    "3 & -4.847767 &  0.0 \\\\\n",
    "4 &  4.405935 &  1.0 \\\\\n",
    "\\bottomrule\n",
    "\\end{tabular}\n",
    "$$\n",
    "\n",
    "We will now fit the final SVC using the LDA representation,"
   ]
  },
  {
   "cell_type": "code",
   "execution_count": 23,
   "metadata": {},
   "outputs": [
    {
     "data": {
      "image/png": "[encoded data removed]",
      "text/plain": [
       "<Figure size 648x216 with 2 Axes>"
      ]
     },
     "metadata": {
      "needs_background": "light"
     },
     "output_type": "display_data"
    }
   ],
   "source": [
    "# Parameter Search for LDA\n",
    "clf_lda = GridSearchCV(svm.LinearSVC(), params, scoring = 'accuracy')\n",
    "clf_lda.fit(X_lda, y_train.ravel())\n",
    "\n",
    "plot_paramsearch(clf_lda)"
   ]
  },
  {
   "cell_type": "markdown",
   "metadata": {},
   "source": [
    "As we increase C, training time similarly increases. However, accuracy remains constant within bounds (the blue area is within 1 SD of the mean training time). We now fit the model and compute metrics,"
   ]
  },
  {
   "cell_type": "code",
   "execution_count": 78,
   "metadata": {},
   "outputs": [],
   "source": [
    "# Use PCA rep to fit SVC\n",
    "best_params  = clf_lda.best_estimator_.get_params()\n",
    "\n",
    "start = time()\n",
    "svm_lda  = svm.LinearSVC(**best_params)\n",
    "svm_lda.fit(X_lda, y_train.ravel())\n",
    "end = time()\n",
    "\n",
    "lda_time = round(end - start, 3)"
   ]
  },
  {
   "cell_type": "code",
   "execution_count": 79,
   "metadata": {},
   "outputs": [
    {
     "name": "stdout",
     "output_type": "stream",
     "text": [
      "Test Accuracy Score: 0.5383244206773619 \n",
      " Train Accuracy Score: 0.9759036144578314 \n",
      " Training Time: 0.003s\n"
     ]
    },
    {
     "data": {
      "text/plain": [
       "<Figure size 360x360 with 0 Axes>"
      ]
     },
     "metadata": {},
     "output_type": "display_data"
    },
    {
     "data": {
      "image/png": "[encoded data removed]",
      "text/plain": [
       "<Figure size 432x288 with 2 Axes>"
      ]
     },
     "metadata": {
      "needs_background": "light"
     },
     "output_type": "display_data"
    }
   ],
   "source": [
    "# Score LDA representation\n",
    "X_test_lda = lda.transform(X_test)\n",
    "\n",
    "print(\n",
    "    \"Test Accuracy Score:\",  accuracy_score(y_test.ravel(), svm_lda.predict(X_test_lda)), '\\n',\n",
    "    \"Train Accuracy Score:\", accuracy_score(y_train.ravel(), svm_lda.predict(X_lda)), '\\n',\n",
    "    \"Training Time:\", f'{lda_time}s'\n",
    ")\n",
    "\n",
    "# Show confusion matrix\n",
    "show_cm(y_test, svm_lda, X_test_lda)"
   ]
  },
  {
   "cell_type": "markdown",
   "metadata": {},
   "source": [
    "The model trains substantially faster than the other two sets of SVCs (0.003s), but is as overfit as the basic SVC - training classification is very high at 97.5%, but test accuracy is 53.8%, the lowest of all SVCs we have covered. An LDA collapses image data to just one dimension, and in doing so overfits to the training data and fails to pick up salient features. \n",
    "\n",
    "As mentioned earlier, an LDA is equally a supervised classification technique with a linear decision boundary,"
   ]
  },
  {
   "cell_type": "code",
   "execution_count": 80,
   "metadata": {},
   "outputs": [
    {
     "data": {
      "image/png": "[encoded data removed]",
      "text/plain": [
       "<Figure size 360x216 with 1 Axes>"
      ]
     },
     "metadata": {
      "needs_background": "light"
     },
     "output_type": "display_data"
    },
    {
     "name": "stdout",
     "output_type": "stream",
     "text": [
      "LDA Score: 0.98 \n",
      " SVC Score: 0.98\n"
     ]
    }
   ],
   "source": [
    "show_lda()\n",
    "\n",
    "print(\n",
    "    \"LDA Score:\", round(lda.score(X_train, y_train),2), '\\n',\n",
    "    \"SVC Score:\", round(\n",
    "        accuracy_score(y_train.ravel(), \n",
    "        svm_lda.predict(X_lda)),2))"
   ]
  },
  {
   "cell_type": "markdown",
   "metadata": {},
   "source": [
    "In the plot, points with red markers are from the Shirts class, while points with blue markers are from the Jerseys class. Visually, there is strong class separation at the margins, but not so much around 0 - this is the location where the majority of misclassifications occur.\n",
    "\n",
    "A linear SVC trained on an LDA with a linear decision boundary will, as the plot and accompanying readout shows, simply redraw the same decision boundary. As such, our apparent gains in performance are due to the problem already being 'solved' by the LDA. In other words, the LDA-Representation SVC is just an LDA Classifier. "
   ]
  },
  {
   "cell_type": "markdown",
   "metadata": {},
   "source": [
    "## Recommendation\n",
    "\n",
    "After analysing three variants of the linear SVC, the PCA-Representation SVC is the recommended model. As outlined clearly above, the model uses a less-noisy representation of images before training the model, reducing overfitting and increasing test accuracy overall. Additionally, the PCA model trains substantially faster than the basic model (0.07s vs 54s), which bodes well if we choose to increase the size of the training set. These performance gains are meaningful even when we consider the time to fit and transform the data using PCA (~2.6 seconds). The third model, while fast, is limited in its descriptive power and contains a redundant use of the SVC. "
   ]
  },
  {
   "cell_type": "markdown",
   "metadata": {},
   "source": [
    "# Technical Appendix"
   ]
  },
  {
   "cell_type": "code",
   "execution_count": 2,
   "metadata": {},
   "outputs": [],
   "source": [
    "## Imports\n",
    "\n",
    "from glob import glob\n",
    "import numpy as np \n",
    "\n",
    "import pandas as pd\n",
    "\n",
    "from time import time\n",
    "import scipy.stats as sts\n",
    "\n",
    "\n",
    "from tensorflow.keras.preprocessing import image\n",
    "from sklearn.preprocessing import StandardScaler\n",
    "\n",
    "from sklearn.model_selection import train_test_split, GridSearchCV\n",
    "\n",
    "from sklearn.decomposition import PCA\n",
    "from sklearn.discriminant_analysis import LinearDiscriminantAnalysis\n",
    "from sklearn import svm\n",
    "\n",
    "\n",
    "from sklearn.metrics import confusion_matrix, ConfusionMatrixDisplay, accuracy_score\n",
    "\n",
    "import matplotlib.pyplot as plt"
   ]
  },
  {
   "cell_type": "code",
   "execution_count": 69,
   "metadata": {},
   "outputs": [],
   "source": [
    "## Plotting/ Misc Functions (run first)\n",
    "\n",
    "def plot_paramsearch(clf):\n",
    "    results = pd.DataFrame(clf.cv_results_)\n",
    "    param_results = results.groupby('param_C').mean()\n",
    "\n",
    "    fig = plt.figure(figsize=(9,3), tight_layout = True)\n",
    "\n",
    "    plt.subplot(121)\n",
    "    ax = param_results[\"mean_fit_time\"].plot(label = \"PCA SVM\")\n",
    "\n",
    "    ax.fill_between(\n",
    "        param_results.index,\n",
    "        param_results[\"mean_fit_time\"] + param_results[\"std_fit_time\"],\n",
    "        param_results[\"mean_fit_time\"] - param_results[\"std_fit_time\"],\n",
    "        alpha = 0.1,\n",
    "        color = \"blue\"\n",
    "    )\n",
    "\n",
    "    ax.set_yscale('log')\n",
    "    ax.set_xscale('log')\n",
    "\n",
    "    ax.set_ylabel(\"Training Time (s)\")\n",
    "\n",
    "    #ax.semilogx(C, training_time, label = \"Basic SVM\")\n",
    "    ax.legend()\n",
    "\n",
    "    plt.subplot(122)\n",
    "\n",
    "    ax2 = param_results['mean_test_score'].plot(label = \"PCA SVM\")\n",
    "    ax2.fill_between(\n",
    "        param_results.index,\n",
    "        param_results[\"mean_test_score\"] + param_results[\"std_test_score\"],\n",
    "        param_results[\"mean_test_score\"] - param_results[\"std_test_score\"],\n",
    "        alpha = 0.1,\n",
    "        color = \"blue\"\n",
    "    )\n",
    "    ax2.set_xscale('log')\n",
    "    ax2.set_ylabel(\"Training Accuracy\")\n",
    "\n",
    "    plt.show()\n",
    "\n",
    "def show_cm(y, model, x):\n",
    "    plt.figure(figsize=(5,5))\n",
    "    cm = confusion_matrix(y, model.predict(x))\n",
    "\n",
    "    ConfusionMatrixDisplay(\n",
    "        confusion_matrix = cm,\n",
    "        display_labels=LABELS).plot()\n",
    "    plt.show()\n",
    "\n",
    "def show_lda():\n",
    "    plt.figure(figsize=(5,3))\n",
    "    ax = plt.gca()\n",
    "\n",
    "    colors = ['red' if i == 1 else 'blue' for i in y_train.ravel()]\n",
    "\n",
    "    ax.scatter(\n",
    "        X_lda, \n",
    "        sts.norm.rvs(loc = 0, size = len(X_lda), \n",
    "        scale = 0.001),\n",
    "        alpha = 0.2,\n",
    "        color = colors)\n",
    "\n",
    "    ax.set_yticks([])\n",
    "    ax.set_xlabel(\"LDA Representation\")\n",
    "\n",
    "    plt.show()\n"
   ]
  }
 ],
 "metadata": {
  "interpreter": {
   "hash": "40d3a090f54c6569ab1632332b64b2c03c39dcf918b08424e98f38b5ae0af88f"
  },
  "kernelspec": {
   "display_name": "Python 3.8.5 64-bit ('base': conda)",
   "language": "python",
   "name": "python3"
  },
  "language_info": {
   "codemirror_mode": {
    "name": "ipython",
    "version": 3
   },
   "file_extension": ".py",
   "mimetype": "text/x-python",
   "name": "python",
   "nbconvert_exporter": "python",
   "pygments_lexer": "ipython3",
   "version": "3.8.5"
  },
  "orig_nbformat": 4
 },
 "nbformat": 4,
 "nbformat_minor": 2
}
