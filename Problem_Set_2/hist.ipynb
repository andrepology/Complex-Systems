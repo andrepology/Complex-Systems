{
 "cells": [
  {
   "cell_type": "code",
   "execution_count": 1,
   "metadata": {},
   "outputs": [],
   "source": [
    "import numpy as np\n",
    "\n",
    "import networkx as nx\n",
    "from random import random\n",
    "from numpy import arctan2, pi\n",
    "\n",
    "import scipy.stats as sts\n",
    "from scipy.stats import norm\n",
    "from scipy import signal\n",
    "\n",
    "import matplotlib.pyplot as plt\n",
    "from mpl_toolkits.axes_grid1 import make_axes_locatable\n",
    "from matplotlib import cm\n",
    "from PIL import Image, ImageDraw, ImageFont"
   ]
  },
  {
   "cell_type": "code",
   "execution_count": 2,
   "metadata": {},
   "outputs": [],
   "source": [
    "def unnormalized_distribution(x, y):\n",
    "    \n",
    "    measurements = [2.349080, -1.276010, -2.081865]\n",
    "    buoys = [[-2.5, 2], [2, -5], [-3, -4]]\n",
    "    sigma = 10/180*pi\n",
    "    posterior = 1\n",
    "    for i in range(3):\n",
    "        bearing = arctan2(buoys[i][1] - y, buoys[i][0] - x)\n",
    "        difference = (bearing - measurements[i] + pi) % (2 * pi) - pi\n",
    "        posterior *= norm.pdf(difference, loc=0, scale=sigma)\n",
    "    return posterior"
   ]
  },
  {
   "cell_type": "code",
   "execution_count": 23,
   "metadata": {},
   "outputs": [],
   "source": [
    "def custom_mh(n = 100000, step = 20, burn_in = 10):\n",
    "    \"\"\"\n",
    "    Performs Metropolis-Hastings sampling over a poserior\n",
    "    \"\"\"\n",
    "    samples = np.zeros((2,n//step), dtype = np.float16)\n",
    "    rejections = np.zeros(n)\n",
    "\n",
    "    # Initializations, which will be discarded\n",
    "    curr_x = 1\n",
    "    curr_y = 1\n",
    "\n",
    "    eps_x = 1\n",
    "    eps_y = 2\n",
    "\n",
    "    for i in range(n):\n",
    "        proposal_x = norm(curr_x, eps_x).rvs()\n",
    "        proposal_y = norm(curr_y, eps_y).rvs()\n",
    "\n",
    "        proposal = unnormalized_distribution(proposal_x,proposal_y)\n",
    "        current = unnormalized_distribution(curr_x, curr_y)\n",
    "        ratio = proposal/current\n",
    "\n",
    "        accept = random() < min(1,ratio)\n",
    "\n",
    "        if accept:\n",
    "            curr_x = proposal_x\n",
    "            curr_y = proposal_y\n",
    "        else:\n",
    "            rejections[i] = 1\n",
    "        \n",
    "        if i % step == 0 and i > burn_in:\n",
    "            samples[:, i//step] = curr_x, curr_y\n",
    "\n",
    "    return samples\n",
    "\n",
    "chain1,chain2,chain3 = custom_mh(10000), custom_mh(10000), custom_mh(10000)"
   ]
  },
  {
   "cell_type": "code",
   "execution_count": 25,
   "metadata": {},
   "outputs": [
    {
     "data": {
      "image/png": "[encoded data removed]",
      "text/plain": [
       "<Figure size 360x360 with 3 Axes>"
      ]
     },
     "metadata": {
      "needs_background": "light"
     },
     "output_type": "display_data"
    }
   ],
   "source": [
    "fig, ax = plt.subplots(figsize=(5, 5), sharex = False)\n",
    "\n",
    "# the scatter plot:\n",
    "ax.plot(\n",
    "    chain1[0,:],\n",
    "    chain1[1,:], \n",
    "    ',',\n",
    "    alpha = 1,\n",
    "    c = 'red',\n",
    "    label = 'Chain 1')\n",
    "\n",
    "ax.plot(\n",
    "    chain2[0,:],\n",
    "    chain2[1,:], \n",
    "    ',',\n",
    "    alpha = 1,\n",
    "    c = 'green',\n",
    "    label = 'Chain 2')\n",
    "\n",
    "ax.plot(\n",
    "    chain3[0,:],\n",
    "    chain3[1,:], \n",
    "    ',',\n",
    "    alpha = 1,\n",
    "    c = 'blue',\n",
    "    label = 'Chain 3')\n",
    "\n",
    "\n",
    "# create new axes on the right and on the top of the current axes\n",
    "divider = make_axes_locatable(ax)\n",
    "# below height and pad are in inches\n",
    "ax_histx = divider.append_axes(\"top\", 0.8, pad=0.1, sharex=ax)\n",
    "ax_histy = divider.append_axes(\"right\", 0.8, pad=0.1, sharey=ax)\n",
    "\n",
    "ax_histx.xaxis.set_tick_params(labelbottom=False)\n",
    "ax_histy.yaxis.set_tick_params(labelleft=False)\n",
    "\n",
    "ax_histx.hist([chain1[0,:], chain2[0,:], chain3[0,:]], bins=10, color = ['red','green','blue'])\n",
    "ax_histy.hist([chain1[1,:],chain2[1,:],chain2[1,:]], bins=10, orientation='horizontal', color = ['red','green','blue'])\n",
    "\n",
    "ax.set_ylabel(\"y\")\n",
    "ax.set_xlabel(\"x\")\n",
    "ax.set_title(\"Convergence of 3 Chains\")\n",
    "ax.legend()\n",
    "\n",
    "# Plot autocorrelation\n",
    "plt.show()"
   ]
  },
  {
   "cell_type": "code",
   "execution_count": null,
   "metadata": {},
   "outputs": [],
   "source": []
  }
 ],
 "metadata": {
  "interpreter": {
   "hash": "40d3a090f54c6569ab1632332b64b2c03c39dcf918b08424e98f38b5ae0af88f"
  },
  "kernelspec": {
   "display_name": "Python 3.8.5 64-bit ('base': conda)",
   "language": "python",
   "name": "python3"
  },
  "language_info": {
   "codemirror_mode": {
    "name": "ipython",
    "version": 3
   },
   "file_extension": ".py",
   "mimetype": "text/x-python",
   "name": "python",
   "nbconvert_exporter": "python",
   "pygments_lexer": "ipython3",
   "version": "3.8.5"
  },
  "orig_nbformat": 4
 },
 "nbformat": 4,
 "nbformat_minor": 2
}
