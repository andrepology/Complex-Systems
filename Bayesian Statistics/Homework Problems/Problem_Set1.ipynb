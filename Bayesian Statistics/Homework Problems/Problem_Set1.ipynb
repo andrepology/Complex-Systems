{
 "cells": [
  {
   "cell_type": "code",
   "execution_count": 1,
   "source": [
    "import numpy as np\n",
    "import scipy as sp\n",
    "import scipy.stats as sts\n",
    "import matplotlib.pyplot as plt\n",
    "plt.style.use('seaborn-whitegrid')\n",
    "\n",
    "%matplotlib inline"
   ],
   "outputs": [],
   "metadata": {}
  },
  {
   "cell_type": "markdown",
   "source": [
    "# Problem 1: Call Center Modelling\n",
    "\n",
    "As we're rehashing code from class, I've removed docstrings to make this submission less volumnious/easier to parse. Added comments in places to demonstrate understanding, if needed. "
   ],
   "metadata": {}
  },
  {
   "cell_type": "code",
   "execution_count": 2,
   "source": [
    "waiting_times_day = np.loadtxt(\n",
    "    'https://course-resources.minerva.kgi.edu/uploaded_files/mke/'\n",
    "    '00124343-8397/call-center.csv')\n",
    "waiting_times_per_hour = [[] for _ in range(24)]\n",
    "\n",
    "current_time = 0\n",
    "for t in waiting_times_day:\n",
    "    current_hour = int(current_time // 60)\n",
    "    current_time += t\n",
    "    waiting_times_per_hour[current_hour].append(t)"
   ],
   "outputs": [],
   "metadata": {}
  },
  {
   "cell_type": "code",
   "execution_count": 3,
   "source": [
    "def prior(lambda_):\n",
    "    return sts.gamma(1, scale = 1/0.25).pdf(lambda_)\n",
    "\n",
    "def likelihood(lambda_, datum):\n",
    "    return sts.expon(scale = 1/lambda_).pdf(datum)\n",
    "\n",
    "def compute_posterior(parameter_values, prior, likelihood, data):\n",
    "    # Take log to ease computations\n",
    "    log_prior = np.log(prior(parameter_values))\n",
    "    log_likelihood = np.array([\n",
    "        np.sum(np.log(likelihood(param, data)))\n",
    "        for param in parameter_values])\n",
    "    \n",
    "    # Unnormed log posterior\n",
    "    unnormalized_log_posterior = log_prior + log_likelihood\n",
    "    # Rescale\n",
    "    unnormalized_log_posterior -= max(unnormalized_log_posterior)\n",
    "    unnormalized_posterior = np.exp(unnormalized_log_posterior)\n",
    "    area = sp.integrate.trapz(unnormalized_posterior, parameter_values)\n",
    "    # Normalize\n",
    "    posterior = unnormalized_posterior / area\n",
    "    return posterior\n",
    "\n",
    "hour_index = 9\n",
    "waiting_times_hour = waiting_times_per_hour[hour_index]\n",
    "\n",
    "lambdas = np.linspace(0, 10, 501)[1:]\n",
    "posterior = compute_posterior(lambdas, prior, likelihood, waiting_times_hour)"
   ],
   "outputs": [],
   "metadata": {}
  },
  {
   "cell_type": "markdown",
   "source": [
    "## Recall\n",
    "\n",
    "In class, we updated our prior on the number of calls per minute (lambda) based on data from the 'call-center.csv' data set. Crucially, this data is for just one hour specified by the 'hour_index' variable. \n",
    "\n",
    "To make inferences for each hour of the day, we need to loop through data for each hour of the day and compute and record the posterior means for each hour. Confidence-interval computations are handled by the following compute_percentile function, which spotlights the desired 98% width percentiles (0.1, 0.99) over the posterior's cdf. The expected value and confidence interval are returned by compute_inferences, which wraps the aforementioned "
   ],
   "metadata": {}
  },
  {
   "cell_type": "code",
   "execution_count": 4,
   "source": [
    "def compute_percentile(parameter_values, distribution_values, percentile):\n",
    "    ''' Returns (mean, 98% [0.01, 0.99] CI) on posterior:array-like distribution of calls/min.'''\n",
    "    cumulative_distribution = sp.integrate.cumtrapz(distribution_values, \n",
    "                                                    parameter_values)\n",
    "    percentile_index = np.searchsorted(cumulative_distribution,\n",
    "                                       percentile)\n",
    "\n",
    "    return lambdas[percentile_index]\n",
    "\n",
    "\n",
    "def compute_inferences(lambdas, posterior):\n",
    "    '''Returns a tuple of expected value, 98% CI for plotting. Expensive, \n",
    "       but we aren't working with conjugate priors here.'''\n",
    "    conf_int = [compute_percentile(lambdas, posterior, p) \n",
    "                for p  \n",
    "                in [0.01, 0.99]]\n",
    "    exp_val = sp.integrate.trapz(posterior * lambdas, lambdas)\n",
    "\n",
    "    return (exp_val, [exp_val  - conf_int[0], conf_int[1] - exp_val])\n",
    "\n",
    "point = compute_inferences(lambdas, posterior)"
   ],
   "outputs": [],
   "metadata": {}
  },
  {
   "cell_type": "markdown",
   "source": [
    "Before we complete the modeling, we pause to check that compute_inferences works as desired below.\n",
    "This might be pedantic, but the error widths (distance between expected value and respective confidence interval bound) are non-identical. More than suggesting an asymmetric posterior, the yerr keyword in plt.errorbar specifies symmetric errors by default. So we need to do some transformation to the confidence interval arrays before plotting. \n",
    "\n",
    "(Note: they are *almost* symmetric, but I'm a stickler for this stuff)"
   ],
   "metadata": {}
  },
  {
   "cell_type": "code",
   "execution_count": 5,
   "source": [
    "print(f\"Point: mean = {point[0]}\",\n",
    "      f\"yerr_lower = {point[1][0]}\", \n",
    "      f\"y_err_upper = {point[1][1]}\")"
   ],
   "outputs": [
    {
     "output_type": "stream",
     "name": "stdout",
     "text": [
      "Point: mean = 5.728695915357027 yerr_lower = 0.7086959153570263 y_err_upper = 0.7313040846429733\n"
     ]
    }
   ],
   "metadata": {}
  },
  {
   "cell_type": "markdown",
   "source": [
    "For each hour of the day, we can now infer the unknown parameter of interest - call rate - by updating a prior with data on calls per hour, encoded as an exponential likelihood function. \n",
    "\n",
    "The beta prior is a kind of easygoing, conservative distribution. For it to reflect broader presumptions about reality, we elongate its support from [0,10] to [0,20] calls per minute, given the observation we made in PCW that calls tend to pick up around noon (perhaps because lots of people are awake, idle enough during a lunch break to make a call, or some other propensity in the broader population).  "
   ],
   "metadata": {}
  },
  {
   "cell_type": "code",
   "execution_count": 6,
   "source": [
    "data = []\n",
    "for hour in range(24):\n",
    "    current_hour = waiting_times_per_hour[hour]\n",
    "\n",
    "    lambdas = np.linspace(0, 20, 501)[1:]\n",
    "    posterior = compute_posterior(lambdas, prior, likelihood, current_hour)\n",
    "\n",
    "    data.append((hour + 1, compute_inferences(lambdas, posterior)))"
   ],
   "outputs": [],
   "metadata": {}
  },
  {
   "cell_type": "code",
   "execution_count": 7,
   "source": [
    "# Transpose data\n",
    "plot_data = list(zip(*data))\n",
    "\n",
    "t = plot_data[0]\n",
    "y = [i[0] for i in plot_data[1]]\n",
    "yerr = [i[1] for i in plot_data[1]]\n",
    "# Parse for asymmetric errors\n",
    "yerr = np.transpose(yerr)\n",
    "\n",
    "plt.errorbar(t,y, yerr = yerr, fmt = '.', capsize = 1, elinewidth = 1)\n",
    "plt.plot(t,y, alpha = 0.1)\n",
    "plt.title(\"Mean and 98% CI over Call Rate\")\n",
    "plt.xlabel(\"Hour of the Day\")\n",
    "plt.ylabel(\"Call Rate (calls per minute)\")\n",
    "\n",
    "print(f\"Mean expected call rate over the day is\", \n",
    "      f\"{round(np.mean(y), 2)} per min\")"
   ],
   "outputs": [
    {
     "output_type": "stream",
     "name": "stdout",
     "text": [
      "Mean expected call rate over the day is 4.07 per min\n"
     ]
    },
    {
     "output_type": "display_data",
     "data": {
      "image/png": "[encoded data removed]",
      "text/plain": [
       "<Figure size 432x288 with 1 Axes>"
      ]
     },
     "metadata": {
      "needs_background": "light"
     }
    }
   ],
   "metadata": {}
  },
  {
   "cell_type": "markdown",
   "source": [
    "This plot is an instructive example on why I love Bayesian statistics. We have a layperson with a decision problem  - a white-collar call center manager figuring out how to staff agents - without the luxury of lots of trials. With a reasonable prior and moderate amounts of call data, we can tell him what to expect, and what to be surprised by. This is what I would say:\n",
    "\n",
    "\"The graph, which summarizes inferred call rates over the course of each hour of the day, suggests that the you should expect two surges, peaking first and strongly at 12 - 1 pm with about 16 calls/min and then moderately at 7 pm with 8 calls/min. These are *expected* rates, which implies that there will be some variation around it. The variation around it that *should not* surprise you is captured by the error bars overlapping each point. For example, at 12 pm expect 16 calls/min, but be surprised by anything less than about 13 and greater than 17 calls a minute. \n",
    "\n",
    "4 calls a minute, the average of these expected values, forms a yardstick for how busy the center is over the course of the day: your busy hours are between 9 AM and a little after 8 PM, while quiet hours are between 8 PM and 5 AM. \n",
    "\n",
    "Interestingly, there is very little variation during these quiet hours, which suggests that you can safely staff more minimally. On the other hand, the higher variation during busy hours suggests you may want to overstaff, or have additional staff on call. Without data on service times, I cannot provide more precise information. Though a similar analysis will prove fruitful.\""
   ],
   "metadata": {}
  },
  {
   "cell_type": "markdown",
   "source": [
    "# Problem 2: Bent Coin Inference\n",
    "\n",
    "We are deriving our likelihood function from a series of Bernoulli trials in which a bent coin comes up heads 6 times and tails 16 times, with a probability (\\pi) that it comes up head. \n",
    "\n",
    "A prior is a distribution over this unknown probability (\\pi), though semantically we'd prefer to call it a *bias*. We've never seen the coin, and we don't know if particular biases are favorable, or not. So electing for a uniform prior is a safe bet, as we aren't letting our data (6/20) influence the fact that extreme biases (0.9) are as likely as moderate ones (0.3). \n",
    "\n",
    "In the interest of making updates easy, we represent the uniform distribution as a special case of the beta distribution, which conjugate to the binomial likelihood. The posterior will just be a beta with hyperparameters \"nudged\" by data, the nudge being nice closed-form expressions.  "
   ],
   "metadata": {}
  },
  {
   "cell_type": "code",
   "execution_count": 8,
   "source": [
    "def prior(a,b):\n",
    "    return sts.beta(a, b)\n",
    "\n",
    "def posterior(a, b):\n",
    "    k = 6\n",
    "    n = 20\n",
    "\n",
    "    a_1 = a + k\n",
    "    b_1 = b + n - k \n",
    "\n",
    "    dist = sts.beta(a_1, b_1)\n",
    "\n",
    "    x = np.linspace(0,1, 100)\n",
    "    post = dist.pdf(x)\n",
    "    pr = prior(a,b).pdf(x)\n",
    "\n",
    "    lower = dist.ppf(0.025)\n",
    "    upper = dist.ppf(0.975)\n",
    "\n",
    "    x_int = np.linspace(lower, upper, 1000)\n",
    "\n",
    "    print(f'Expected value for pi : {dist.mean()}')\n",
    "    print(f'95% CI : [{lower},{upper}]')\n",
    "\n",
    "    plt.plot(x,post, label = f'Posterior with a = {a_1}, b = {b_1}')\n",
    "    plt.plot(x, pr, label = f\"Prior with a = {a}, b = {b}\")\n",
    "    plt.fill_between(x_int, dist.pdf(x_int), alpha = 0.5, label = \"95% CI\")\n",
    "    plt.xlabel(\"$\\pi$\")\n",
    "    plt.ylabel(\"Probability Density\")\n",
    "    plt.legend()\n",
    "\n",
    "    return dist\n",
    "\n",
    "d = posterior(1, 1)"
   ],
   "outputs": [
    {
     "output_type": "stream",
     "name": "stdout",
     "text": [
      "Expected value for pi : 0.3181818181818182\n",
      "95% CI : [0.14587694234309673,0.5217511182471137]\n"
     ]
    },
    {
     "output_type": "display_data",
     "data": {
      "image/png": "[encoded data removed]",
      "text/plain": [
       "<Figure size 432x288 with 1 Axes>"
      ]
     },
     "metadata": {
      "needs_background": "light"
     }
    }
   ],
   "metadata": {}
  },
  {
   "cell_type": "markdown",
   "source": [
    "Head favorability is equivalent to asking p(pi) > 0.5, or, the area under the posterior from pi till 1. Since we have a parametric distribution, we can just use the inverse cdf. Given the upper bound CI of 0.52, I expect this to be around ~0.03:"
   ],
   "metadata": {}
  },
  {
   "cell_type": "code",
   "execution_count": 9,
   "source": [
    "print(f'Head bias is {1 - d.cdf(0.5)}')"
   ],
   "outputs": [
    {
     "output_type": "stream",
     "name": "stdout",
     "text": [
      "Head bias is 0.03917694091796875\n"
     ]
    }
   ],
   "metadata": {}
  },
  {
   "cell_type": "markdown",
   "source": [
    "Sure enough, there's a very slim chance (3.9%) that the coin is biased towards heads, conditioned on this data. There might be some underlying data generating process too that we're unaware about that might \"switch off\" and adjust out predictions. Luckily, conjugate pairs make recomputing this easy. "
   ],
   "metadata": {}
  }
 ],
 "metadata": {
  "kernelspec": {
   "name": "python3",
   "display_name": "Python 3.8.5 64-bit ('base': conda)"
  },
  "language_info": {
   "codemirror_mode": {
    "name": "ipython",
    "version": 3
   },
   "file_extension": ".py",
   "mimetype": "text/x-python",
   "name": "python",
   "nbconvert_exporter": "python",
   "pygments_lexer": "ipython3",
   "version": "3.8.5"
  },
  "interpreter": {
   "hash": "dca0ade3e726a953b501b15e8e990130d2b7799f14cfd9f4271676035ebe5511"
  }
 },
 "nbformat": 4,
 "nbformat_minor": 2
}