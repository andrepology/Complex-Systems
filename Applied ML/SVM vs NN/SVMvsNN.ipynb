{
 "cells": [
  {
   "cell_type": "markdown",
   "metadata": {},
   "source": [
    "# Introduction\n",
    "\n",
    "Like the previous assignemnt, three kinds of Support Vector Classifiers will be trained to classify Shirts and Jerseys from the ImageNet database (flattened `64px x 64px` RGB images, with `64 * 64 * 128 = 12,288` dimensions each). The first will use a linear kernel, the second a polynomial kernel. We will then compare the performance of the SVCs with a deep neural network (with VGG16 as the foundation). \n",
    "\n",
    " We first import all available images, resize and cohere to a format that sklearn respects,"
   ]
  },
  {
   "cell_type": "code",
   "execution_count": 53,
   "metadata": {},
   "outputs": [],
   "source": [
    "shirts = glob(\"../18/Data/Shirt/*\") # 0 \n",
    "jerseys  = glob(\"../18/Data/Jersey/*\") # 1 "
   ]
  },
  {
   "cell_type": "code",
   "execution_count": 54,
   "metadata": {},
   "outputs": [],
   "source": [
    "WIDTH = 64\n",
    "HEIGHT = WIDTH\n",
    "DEPTH = 3\n",
    "LABELS = ['jerseys', 'shirts']\n",
    "\n",
    "# Array to hold training images\n",
    "imgs = []\n",
    "# Get target labels for LDA\n",
    "y = []\n",
    "\n",
    "def preprocess_clothing(dir, label):\n",
    "\n",
    "    global imgs, y\n",
    "\n",
    "    for img_path in dir:\n",
    "        img = image.load_img(img_path, target_size=(WIDTH, HEIGHT))\n",
    "        x = image.img_to_array(img)\n",
    "        # Augment (size, size) to (samples, sizes, sizes)\n",
    "        x = np.expand_dims(x, axis=0)\n",
    "        \n",
    "        imgs.append(x)\n",
    "        y.append(label)\n",
    "\n",
    "preprocess_clothing(shirts, label = 1)\n",
    "preprocess_clothing(jerseys, label = 0)\n",
    "\n",
    "imgs = np.vstack(imgs)\n",
    "y = np.vstack(y)\n",
    "\n",
    "# Complete preprocessing by flattening imgs\n",
    "imgs_flat = imgs.reshape(len(imgs), WIDTH*HEIGHT*DEPTH)\n",
    "\n",
    "# Rescale to help with optimization\n",
    "scale  = StandardScaler().fit(imgs_flat)\n",
    "\n",
    "imgs_flat = scale.transform(imgs_flat)\n",
    "\n",
    "# Split into train/validation set\n",
    "X_train, X_test, y_train, y_test = train_test_split(imgs_flat, y, test_size = 0.2)\n",
    "\n",
    "# 2802, 12288\n",
    "assert X_train.shape[0] + X_test.shape[0] == len(shirts) + len(jerseys), \"Mangled Sizing\""
   ]
  },
  {
   "cell_type": "code",
   "execution_count": 5,
   "metadata": {},
   "outputs": [
    {
     "data": {
      "text/plain": [
       "(array([0, 1]), array([1089, 1152]))"
      ]
     },
     "execution_count": 5,
     "metadata": {},
     "output_type": "execute_result"
    }
   ],
   "source": [
    "# To reduce memory requirements\n",
    "assert X_train.flags['C_CONTIGUOUS']\n",
    "\n",
    "# C ~ 1/Regularization \n",
    "# Tolerance - stopping criterion \n",
    "# Check class balance\n",
    "np.unique(y_train, return_counts =True)"
   ]
  },
  {
   "cell_type": "markdown",
   "metadata": {},
   "source": [
    "# 3 SVCs\n",
    "\n",
    "We have an input matrix X with size (2,802, 12,288) - a total of 2802 images. We can now initialize each SVC model and fit the model to the input data: flattened pixel data of jerseys and shirts. At the end of the section, we will briefly compare performance betweent the three. \n",
    "\n",
    "## Linear SVC"
   ]
  },
  {
   "cell_type": "code",
   "execution_count": 6,
   "metadata": {},
   "outputs": [
    {
     "name": "stderr",
     "output_type": "stream",
     "text": [
      "/opt/anaconda3/lib/python3.8/site-packages/sklearn/svm/_base.py:985: ConvergenceWarning: Liblinear failed to converge, increase the number of iterations.\n",
      "  warnings.warn(\"Liblinear failed to converge, increase \"\n"
     ]
    }
   ],
   "source": [
    "# Fit SVM model with linear kernel, default hyperparameters\n",
    "start = time()\n",
    "svm_linear = svm.LinearSVC()\n",
    "svm_linear.fit(X_train, y_train.ravel())\n",
    "stop = time()\n",
    "training_time = round(stop - start, 2)"
   ]
  },
  {
   "cell_type": "code",
   "execution_count": 14,
   "metadata": {},
   "outputs": [
    {
     "name": "stdout",
     "output_type": "stream",
     "text": [
      "Test Accuracy Score: 0.5668449197860963 \n",
      " Train Accuracy Score: 0.9767960731816153 \n",
      " Training Time: 56.27s\n"
     ]
    },
    {
     "data": {
      "text/plain": [
       "<Figure size 360x360 with 0 Axes>"
      ]
     },
     "metadata": {},
     "output_type": "display_data"
    },
    {
     "data": {
      "image/png": "[encoded data removed]",
      "text/plain": [
       "<Figure size 432x288 with 2 Axes>"
      ]
     },
     "metadata": {
      "needs_background": "light"
     },
     "output_type": "display_data"
    }
   ],
   "source": [
    "# Score linear kernel and show training time\n",
    "print(\n",
    "    \"Test Accuracy Score:\",  accuracy_score(y_test.ravel(), svm_linear.predict(X_test)), '\\n',\n",
    "    \"Train Accuracy Score:\", accuracy_score(y_train.ravel(), svm_linear.predict(X_train)), '\\n',\n",
    "    \"Training Time:\", f'{training_time}s'\n",
    ")\n",
    "\n",
    "# Show confusion matrix for test set\n",
    "show_cm(y_test, svm_linear, X_test)"
   ]
  },
  {
   "cell_type": "markdown",
   "metadata": {},
   "source": [
    "## Polynomial SVC"
   ]
  },
  {
   "cell_type": "code",
   "execution_count": 15,
   "metadata": {},
   "outputs": [],
   "source": [
    "# Fit SVM model with polynomial kernel, default hyperparameters\n",
    "start = time()\n",
    "svm_poly = svm.SVC(\n",
    "    kernel = 'poly'\n",
    ")\n",
    "svm_poly.fit(X_train, y_train.ravel())\n",
    "stop = time()\n",
    "\n",
    "training_time = round(stop - start, 2)\n",
    "\n",
    "svm_poly.get_params()['degree']"
   ]
  },
  {
   "cell_type": "code",
   "execution_count": 17,
   "metadata": {},
   "outputs": [
    {
     "name": "stdout",
     "output_type": "stream",
     "text": [
      "Test Accuracy Score: 0.6363636363636364 \n",
      " Train Accuracy Score: 0.8473895582329317 \n",
      " Training Time: 17.56s\n"
     ]
    },
    {
     "data": {
      "text/plain": [
       "<sklearn.metrics._plot.confusion_matrix.ConfusionMatrixDisplay at 0x7faea9cbddf0>"
      ]
     },
     "execution_count": 17,
     "metadata": {},
     "output_type": "execute_result"
    },
    {
     "data": {
      "text/plain": [
       "<Figure size 360x360 with 0 Axes>"
      ]
     },
     "metadata": {},
     "output_type": "display_data"
    },
    {
     "data": {
      "image/png": "[encoded data removed]",
      "text/plain": [
       "<Figure size 432x288 with 2 Axes>"
      ]
     },
     "metadata": {
      "needs_background": "light"
     },
     "output_type": "display_data"
    }
   ],
   "source": [
    "# Score poly kernel and show training time\n",
    "print(\n",
    "    \"Test Accuracy Score:\",  accuracy_score(y_test.ravel(), svm_poly.predict(X_test)), '\\n',\n",
    "    \"Train Accuracy Score:\", accuracy_score(y_train.ravel(), svm_poly.predict(X_train)), '\\n',\n",
    "    \"Training Time:\", f'{training_time}s'\n",
    ")\n",
    "\n",
    "# Show confusion matrix for test set\n",
    "show_cm(y_test, svm_poly, X_test)"
   ]
  },
  {
   "cell_type": "markdown",
   "metadata": {},
   "source": [
    "## RBF SVC "
   ]
  },
  {
   "cell_type": "code",
   "execution_count": 18,
   "metadata": {},
   "outputs": [],
   "source": [
    "# Fit SVM model with rbf kernel, default hyperparameters\n",
    "start = time()\n",
    "svm_rbf = svm.SVC(\n",
    "    kernel = 'rbf'\n",
    ")\n",
    "svm_rbf.fit(X_train, y_train.ravel())\n",
    "stop = time()\n",
    "\n",
    "training_time = round(stop - start, 2)"
   ]
  },
  {
   "cell_type": "code",
   "execution_count": 19,
   "metadata": {},
   "outputs": [
    {
     "name": "stdout",
     "output_type": "stream",
     "text": [
      "Test Accuracy Score: 0.6470588235294118 \n",
      " Train Accuracy Score: 0.8447121820615796 \n",
      " Training Time: 18.18s\n"
     ]
    },
    {
     "data": {
      "text/plain": [
       "<sklearn.metrics._plot.confusion_matrix.ConfusionMatrixDisplay at 0x7faea9dcd310>"
      ]
     },
     "execution_count": 19,
     "metadata": {},
     "output_type": "execute_result"
    },
    {
     "data": {
      "text/plain": [
       "<Figure size 360x360 with 0 Axes>"
      ]
     },
     "metadata": {},
     "output_type": "display_data"
    },
    {
     "data": {
      "image/png": "[encoded data removed]",
      "text/plain": [
       "<Figure size 432x288 with 2 Axes>"
      ]
     },
     "metadata": {
      "needs_background": "light"
     },
     "output_type": "display_data"
    }
   ],
   "source": [
    "# Score poly kernel and show training time\n",
    "print(\n",
    "    \"Test Accuracy Score:\",  accuracy_score(y_test.ravel(), svm_rbf.predict(X_test)), '\\n',\n",
    "    \"Train Accuracy Score:\", accuracy_score(y_train.ravel(), svm_rbf.predict(X_train)), '\\n',\n",
    "    \"Training Time:\", f'{training_time}s'\n",
    ")\n",
    "\n",
    "# Show confusion matrix for test set\n",
    "show_cm(y_test, svm_rbf, X_test)"
   ]
  },
  {
   "cell_type": "markdown",
   "metadata": {},
   "source": [
    "Based on test set accuracy, the RBF kernel performs best with 64.7%, followed closely by the polynomial kernel (degree 3) with 63.6%, and tailed finally by the basic linear kernel with 56.6%. This ranking is reversed based on training set accuracy (Linear: 97.6%, Poly: 84.7%, RBF: 84.4%), indicating that the degree to which each model is overfit decreases with the degree of flexibility of the kernel representation. \n",
    "\n",
    "If each layer of a neural network can be thought of a transformation of input representation, we can wager that its performance will be better than the SVCs so far. \n"
   ]
  },
  {
   "cell_type": "markdown",
   "metadata": {},
   "source": [
    "# Neural Network\n",
    "\n",
    "The design of this network is straightforward. Take the VGG16 deep neural network, with ImageNet weights, remove the top layer, add a couple of Dense relu activation layers and a prediction (sigmoid) layer. \n",
    "\n",
    "In the interest of making fair comparisons, image dimensions were held constant between SVCs and the Neural Network. \n",
    "\n",
    "(Note: I received help from Nikita regarding preprocessing, and general intuitions about how to put this together. I still think this is a vague kind of magic.)\n"
   ]
  },
  {
   "cell_type": "code",
   "execution_count": 56,
   "metadata": {},
   "outputs": [
    {
     "name": "stdout",
     "output_type": "stream",
     "text": [
      "Found 2242 images belonging to 2 classes.\n",
      "Found 560 images belonging to 2 classes.\n"
     ]
    }
   ],
   "source": [
    "# Same thing as before, albeit in a format tf likes: two iterators\n",
    "base_dir = '../18/Data'\n",
    "\n",
    "# Perform same steps as before\n",
    "data_gen = tf.keras.preprocessing.image.ImageDataGenerator(\n",
    "    rescale=1. / 255,\n",
    "    validation_split=0.2)\n",
    "\n",
    "batch = 10\n",
    "train_gen = data_gen.flow_from_directory(\n",
    "    base_dir,\n",
    "    target_size=(WIDTH, HEIGHT),\n",
    "    class_mode=\"binary\",\n",
    "    batch_size=batch,\n",
    "    subset = \"training\")\n",
    "\n",
    "validation_gen = data_gen.flow_from_directory(\n",
    "    base_dir,\n",
    "    target_size=(W, H),\n",
    "    class_mode=\"binary\",\n",
    "    batch_size=10,\n",
    "    subset = \"validation\")\n",
    "\n",
    "assert sum(y) == sum(np.concatenate((train_gen.classes, validation_gen.classes)))"
   ]
  },
  {
   "cell_type": "code",
   "execution_count": 61,
   "metadata": {},
   "outputs": [
    {
     "name": "stdout",
     "output_type": "stream",
     "text": [
      "Model: \"sequential_2\"\n",
      "_________________________________________________________________\n",
      " Layer (type)                Output Shape              Param #   \n",
      "=================================================================\n",
      " vgg16 (Functional)          (None, 2, 2, 512)         14714688  \n",
      "                                                                 \n",
      " conv2d_2 (Conv2D)           (None, 2, 2, 32)          147488    \n",
      "                                                                 \n",
      " global_average_pooling2d (G  (None, 32)               0         \n",
      " lobalAveragePooling2D)                                          \n",
      "                                                                 \n",
      " flatten_2 (Flatten)         (None, 32)                0         \n",
      "                                                                 \n",
      " dense_8 (Dense)             (None, 1024)              33792     \n",
      "                                                                 \n",
      " dense_9 (Dense)             (None, 256)               262400    \n",
      "                                                                 \n",
      " dense_10 (Dense)            (None, 1)                 257       \n",
      "                                                                 \n",
      "=================================================================\n",
      "Total params: 15,158,625\n",
      "Trainable params: 443,937\n",
      "Non-trainable params: 14,714,688\n",
      "_________________________________________________________________\n",
      "Epoch 1/10\n",
      "225/225 [==============================] - 29s 124ms/step - loss: 0.6238 - accuracy: 0.6253 - val_loss: 0.5191 - val_accuracy: 0.7375\n",
      "Epoch 2/10\n",
      "225/225 [==============================] - 29s 130ms/step - loss: 0.5561 - accuracy: 0.6922 - val_loss: 0.4959 - val_accuracy: 0.7446\n",
      "Epoch 3/10\n",
      "225/225 [==============================] - 34s 149ms/step - loss: 0.5251 - accuracy: 0.7172 - val_loss: 0.4895 - val_accuracy: 0.7786\n",
      "Epoch 4/10\n",
      "225/225 [==============================] - 42s 188ms/step - loss: 0.5044 - accuracy: 0.7449 - val_loss: 0.4782 - val_accuracy: 0.7857\n",
      "Epoch 5/10\n",
      "225/225 [==============================] - 33s 146ms/step - loss: 0.4700 - accuracy: 0.7618 - val_loss: 0.4816 - val_accuracy: 0.7732\n",
      "Epoch 6/10\n",
      "225/225 [==============================] - 33s 145ms/step - loss: 0.4592 - accuracy: 0.7663 - val_loss: 0.4882 - val_accuracy: 0.7661\n",
      "Epoch 7/10\n",
      "225/225 [==============================] - 34s 153ms/step - loss: 0.4178 - accuracy: 0.7948 - val_loss: 0.5425 - val_accuracy: 0.7518\n",
      "Epoch 8/10\n",
      "225/225 [==============================] - 32s 140ms/step - loss: 0.3912 - accuracy: 0.8145 - val_loss: 0.5769 - val_accuracy: 0.7786\n",
      "Epoch 9/10\n",
      "225/225 [==============================] - 33s 146ms/step - loss: 0.3646 - accuracy: 0.8153 - val_loss: 0.6201 - val_accuracy: 0.7446\n",
      "Epoch 10/10\n",
      "225/225 [==============================] - 35s 155ms/step - loss: 0.3375 - accuracy: 0.8479 - val_loss: 0.6748 - val_accuracy: 0.7196\n"
     ]
    }
   ],
   "source": [
    "# Clip its beak for transfer learning\n",
    "vgg = VGG16(\n",
    "    weights='imagenet', \n",
    "    include_top = False,\n",
    "    input_shape = (WIDTH,HEIGHT,DEPTH) )\n",
    "vgg.trainable = False\n",
    "\n",
    "model = Sequential([\n",
    "    vgg,\n",
    "    layers.Conv2D(32,3, activation = 'relu', padding = 'same'),\n",
    "    layers.GlobalAveragePooling2D(),\n",
    "    layers.Flatten(),\n",
    "    layers.Dense(1024, activation = 'relu'),\n",
    "    layers.Dense(256, activation = 'relu'),\n",
    "    layers.Dense(1, activation = 'sigmoid')\n",
    "])\n",
    "\n",
    "model.compile(\n",
    "    optimizer = \"adam\",\n",
    "    loss = \"binary_crossentropy\",\n",
    "    metrics = ['accuracy'])\n",
    "\n",
    "model.summary()\n",
    "\n",
    "fit_model = model.fit(\n",
    "    train_gen,\n",
    "    epochs = 10,\n",
    "    validation_data = validation_gen\n",
    ")"
   ]
  },
  {
   "cell_type": "code",
   "execution_count": 92,
   "metadata": {},
   "outputs": [
    {
     "data": {
      "text/plain": [
       "0.7857142686843872"
      ]
     },
     "execution_count": 92,
     "metadata": {},
     "output_type": "execute_result"
    }
   ],
   "source": [
    "max(fit_model.history['val_accuracy'])"
   ]
  },
  {
   "cell_type": "markdown",
   "metadata": {},
   "source": [
    "The neural network begins with the VGG16 model, pretrained on the ImageNet database (which is to say, we inherit its weights and transformation layers: its prior learnings about image patterns). We then drop the top layer, as we want to introduce a specific binary classification between jerseys and shirts. \n",
    "\n",
    "To learn the specific features that discern jerseys and shirts, a convolution layer is added, with a following Global Average Pooling layer to extract these features. The image is then flattened prior to becoming inputs to two Dense layers. Finally, a sigmoid function outputs the probability of the image belonging to the '1' class, which happens to be Jerseys here. \n",
    "\n",
    "Binary cross entropy is the loss function, as we have a binary classification problem, and its derivate is easy to compute during backprop. Additionally, when we reduce crossentropy, we are maximizing MLE, which is what we desire in fitting the model. \n",
    "\n",
    "At the end of epoch 3, the neural network achieves a test accuracy of about 78.5%!"
   ]
  },
  {
   "cell_type": "code",
   "execution_count": 87,
   "metadata": {},
   "outputs": [
    {
     "data": {
      "image/png": "[encoded data removed]",
      "text/plain": [
       "<Figure size 792x360 with 2 Axes>"
      ]
     },
     "metadata": {
      "needs_background": "light"
     },
     "output_type": "display_data"
    }
   ],
   "source": [
    "fig, axs = plt.subplots(2,1, figsize = (11,5))\n",
    "\n",
    "axs[0].plot(\n",
    "    fit_model.history['accuracy'],\n",
    "    label = \"Train Accuracy\")\n",
    "\n",
    "axs[0].plot(\n",
    "    fit_model.history['val_accuracy'],\n",
    "    label = \"Test Accuracy\"\n",
    ")\n",
    "axs[0].axhline(\n",
    "    0.647, \n",
    "    label = \"RBF SVC Test Accuracy\",\n",
    "    linestyle = '--',\n",
    "    color = \"grey\"\n",
    "    )\n",
    "axs[0].set_title(\"FrankenVGG16 Model Metrics\")\n",
    "axs[0].legend(loc = 'upper left')\n",
    "axs[0].set_xlabel(\"Epoch\")\n",
    "axs[0].set_ylabel(\"Accuracy\")\n",
    "\n",
    "\n",
    "axs[1].plot(\n",
    "    fit_model.history['loss'],\n",
    "    label = \"Train Loss\")\n",
    "\n",
    "axs[1].plot(\n",
    "    fit_model.history['val_loss'],\n",
    "    label = \"Test Loss\"\n",
    ")\n",
    "\n",
    "axs[1].legend()\n",
    "axs[1].set_xlabel(\"Epoch\")\n",
    "axs[1].set_ylabel(\"Loss\")\n",
    "plt.show()"
   ]
  },
  {
   "cell_type": "markdown",
   "metadata": {},
   "source": [
    "The plot above describes the changes in accuracy over training epochs of the neural network. Training accuracy increases monotonically with the monotonic decrease in training loss (as expected), though the improvements in test accuracy halt at epoch 3 (about 78.5%) and the neural network becomes overfit. \n",
    "\n",
    "Nonetheless, it significantly outperforms the best SVC (at about 65% on the test set) across all epochs. The incredible flexibility of neural networks over SVCs have led to impressive gains in classification accuracy."
   ]
  },
  {
   "cell_type": "markdown",
   "metadata": {},
   "source": [
    "# Technical Appendix"
   ]
  },
  {
   "cell_type": "code",
   "execution_count": 26,
   "metadata": {},
   "outputs": [],
   "source": [
    "## Imports\n",
    "from glob import glob\n",
    "import numpy as np \n",
    "\n",
    "import pandas as pd\n",
    "\n",
    "from time import time\n",
    "import scipy.stats as sts\n",
    "\n",
    "from tensorflow.keras.preprocessing import image\n",
    "from sklearn.preprocessing import StandardScaler\n",
    "\n",
    "from sklearn.model_selection import train_test_split\n",
    "\n",
    "from sklearn import svm\n",
    "from sklearn.metrics import confusion_matrix, ConfusionMatrixDisplay, accuracy_score\n",
    "\n",
    "import matplotlib.pyplot as plt\n",
    "from tensorflow.keras.applications import VGG16 \n",
    "from tensorflow.keras.models import Model\n",
    "from tensorflow.keras import layers\n",
    "from tensorflow.keras import Sequential\n",
    "\n",
    "import tensorflow as tf"
   ]
  },
  {
   "cell_type": "code",
   "execution_count": 12,
   "metadata": {},
   "outputs": [],
   "source": [
    "## Plotting/ Misc Functions (run first)\n",
    "\n",
    "def plot_paramsearch(clf):\n",
    "    results = pd.DataFrame(clf.cv_results_)\n",
    "    param_results = results.groupby('param_C').mean()\n",
    "\n",
    "    fig = plt.figure(figsize=(9,3), tight_layout = True)\n",
    "\n",
    "    plt.subplot(121)\n",
    "    ax = param_results[\"mean_fit_time\"].plot(label = \"PCA SVM\")\n",
    "\n",
    "    ax.fill_between(\n",
    "        param_results.index,\n",
    "        param_results[\"mean_fit_time\"] + param_results[\"std_fit_time\"],\n",
    "        param_results[\"mean_fit_time\"] - param_results[\"std_fit_time\"],\n",
    "        alpha = 0.1,\n",
    "        color = \"blue\"\n",
    "    )\n",
    "\n",
    "    ax.set_yscale('log')\n",
    "    ax.set_xscale('log')\n",
    "\n",
    "    ax.set_ylabel(\"Training Time (s)\")\n",
    "\n",
    "    #ax.semilogx(C, training_time, label = \"Basic SVM\")\n",
    "    ax.legend()\n",
    "\n",
    "    plt.subplot(122)\n",
    "\n",
    "    ax2 = param_results['mean_test_score'].plot(label = \"PCA SVM\")\n",
    "    ax2.fill_between(\n",
    "        param_results.index,\n",
    "        param_results[\"mean_test_score\"] + param_results[\"std_test_score\"],\n",
    "        param_results[\"mean_test_score\"] - param_results[\"std_test_score\"],\n",
    "        alpha = 0.1,\n",
    "        color = \"blue\"\n",
    "    )\n",
    "    ax2.set_xscale('log')\n",
    "    ax2.set_ylabel(\"Training Accuracy\")\n",
    "\n",
    "    plt.show()\n",
    "\n",
    "def show_cm(y, model, x):\n",
    "    plt.figure(figsize=(5,5))\n",
    "    cm = confusion_matrix(y, model.predict(x))\n",
    "\n",
    "    return ConfusionMatrixDisplay(\n",
    "        confusion_matrix = cm,\n",
    "        display_labels=LABELS).plot()\n",
    "    \n"
   ]
  }
 ],
 "metadata": {
  "interpreter": {
   "hash": "40d3a090f54c6569ab1632332b64b2c03c39dcf918b08424e98f38b5ae0af88f"
  },
  "kernelspec": {
   "display_name": "Python 3.8.5 64-bit ('base': conda)",
   "language": "python",
   "name": "python3"
  },
  "language_info": {
   "codemirror_mode": {
    "name": "ipython",
    "version": 3
   },
   "file_extension": ".py",
   "mimetype": "text/x-python",
   "name": "python",
   "nbconvert_exporter": "python",
   "pygments_lexer": "ipython3",
   "version": "3.8.5"
  },
  "orig_nbformat": 4
 },
 "nbformat": 4,
 "nbformat_minor": 2
}
