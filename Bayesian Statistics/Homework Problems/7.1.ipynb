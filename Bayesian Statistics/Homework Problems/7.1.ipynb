{
 "cells": [
  {
   "cell_type": "code",
   "execution_count": 4,
   "metadata": {},
   "outputs": [],
   "source": [
    "import numpy as np\n",
    "import scipy.stats as sts\n",
    "\n",
    "import matplotlib.pyplot as plt\n",
    "import pandas as pd"
   ]
  },
  {
   "cell_type": "markdown",
   "metadata": {},
   "source": [
    "# 1. Total Survey Error.\n",
    "\n",
    "> Using the normal approximation to the binomial distribution, confirm that the 95%\n",
    "confidence interval for the sampling error for sample size 1000 and percentage outcome\n",
    "10% is 2% (rounded to the nearest integer). Also, motivate why it is appropriate to use\n",
    "the binomial distribution here.\n",
    "\n",
    "A binomial counts discrete successes, which here represents a respondent selecting a candidate. "
   ]
  },
  {
   "cell_type": "code",
   "execution_count": 9,
   "metadata": {},
   "outputs": [
    {
     "data": {
      "text/plain": [
       "(0.028402576508932555, 0.028402576508932555)"
      ]
     },
     "execution_count": 9,
     "metadata": {},
     "output_type": "execute_result"
    },
    {
     "data": {
      "image/png": "[encoded data removed]",
      "text/plain": [
       "<Figure size 432x288 with 1 Axes>"
      ]
     },
     "metadata": {
      "needs_background": "light"
     },
     "output_type": "display_data"
    }
   ],
   "source": [
    "# A binomial B(n,p) is approximated by the normal with N(np, npq)\n",
    "\n",
    "n = 1000\n",
    "p = 0.3\n",
    "q = 1 - p\n",
    "\n",
    "# Crucial step: we have a finicky scale parameter\n",
    "binom = sts.binom\n",
    "norm = sts.norm(loc =n*p, scale = np.sqrt(n*p*q))\n",
    "\n",
    "x = np.linspace(norm.ppf(0.01), norm.ppf(0.99))\n",
    "plt.plot(x, norm.pdf(x))\n",
    "\n",
    "lower, upper = abs(norm.ppf(0.975) - n*p)/n,  abs(norm.ppf(0.025) - n*p)/n\n",
    "\n",
    "lower,upper\n",
    "\n",
    "#print(\"{0:.0%}\".format(lower), \"{0:.0%}\".format(upper))"
   ]
  },
  {
   "cell_type": "markdown",
   "metadata": {},
   "source": [
    "## Write a function\n",
    "\n",
    "> Write a Python function for calculating the 95% confidence interval given any sample\n",
    "size and any percentage outcome. Use your function to calculate all the values in the\n",
    "Total Survey Error table rounded to the nearest integer. For which entries does your\n",
    "margin of error differ from the value in the table?"
   ]
  },
  {
   "cell_type": "code",
   "execution_count": 6,
   "metadata": {},
   "outputs": [],
   "source": [
    "def binom_conf(n,p):\n",
    "    q = 1 - p\n",
    "    norm = sts.norm(loc = p, scale = np.sqrt(p*q/n))\n",
    "    lower, upper = abs(norm.ppf(0.975) - n*p)/n,  abs(norm.ppf(0.025) - n*p)/n\n",
    "\n",
    "    return \"{0:.0%}\".format(lower)"
   ]
  },
  {
   "cell_type": "code",
   "execution_count": 7,
   "metadata": {},
   "outputs": [
    {
     "data": {
      "text/html": [
       "<div>\n",
       "<style scoped>\n",
       "    .dataframe tbody tr th:only-of-type {\n",
       "        vertical-align: middle;\n",
       "    }\n",
       "\n",
       "    .dataframe tbody tr th {\n",
       "        vertical-align: top;\n",
       "    }\n",
       "\n",
       "    .dataframe thead th {\n",
       "        text-align: right;\n",
       "    }\n",
       "</style>\n",
       "<table border=\"1\" class=\"dataframe\">\n",
       "  <thead>\n",
       "    <tr style=\"text-align: right;\">\n",
       "      <th></th>\n",
       "      <th>1000</th>\n",
       "      <th>750</th>\n",
       "      <th>500</th>\n",
       "      <th>250</th>\n",
       "      <th>100</th>\n",
       "    </tr>\n",
       "  </thead>\n",
       "  <tbody>\n",
       "    <tr>\n",
       "      <th>10</th>\n",
       "      <td>10%</td>\n",
       "      <td>10%</td>\n",
       "      <td>10%</td>\n",
       "      <td>10%</td>\n",
       "      <td>10%</td>\n",
       "    </tr>\n",
       "    <tr>\n",
       "      <th>20</th>\n",
       "      <td>20%</td>\n",
       "      <td>20%</td>\n",
       "      <td>20%</td>\n",
       "      <td>20%</td>\n",
       "      <td>20%</td>\n",
       "    </tr>\n",
       "    <tr>\n",
       "      <th>30</th>\n",
       "      <td>30%</td>\n",
       "      <td>30%</td>\n",
       "      <td>30%</td>\n",
       "      <td>30%</td>\n",
       "      <td>30%</td>\n",
       "    </tr>\n",
       "    <tr>\n",
       "      <th>40</th>\n",
       "      <td>40%</td>\n",
       "      <td>40%</td>\n",
       "      <td>40%</td>\n",
       "      <td>40%</td>\n",
       "      <td>40%</td>\n",
       "    </tr>\n",
       "    <tr>\n",
       "      <th>50</th>\n",
       "      <td>50%</td>\n",
       "      <td>50%</td>\n",
       "      <td>50%</td>\n",
       "      <td>50%</td>\n",
       "      <td>49%</td>\n",
       "    </tr>\n",
       "    <tr>\n",
       "      <th>60</th>\n",
       "      <td>60%</td>\n",
       "      <td>60%</td>\n",
       "      <td>60%</td>\n",
       "      <td>60%</td>\n",
       "      <td>59%</td>\n",
       "    </tr>\n",
       "    <tr>\n",
       "      <th>70</th>\n",
       "      <td>70%</td>\n",
       "      <td>70%</td>\n",
       "      <td>70%</td>\n",
       "      <td>70%</td>\n",
       "      <td>69%</td>\n",
       "    </tr>\n",
       "    <tr>\n",
       "      <th>80</th>\n",
       "      <td>80%</td>\n",
       "      <td>80%</td>\n",
       "      <td>80%</td>\n",
       "      <td>80%</td>\n",
       "      <td>79%</td>\n",
       "    </tr>\n",
       "    <tr>\n",
       "      <th>90</th>\n",
       "      <td>90%</td>\n",
       "      <td>90%</td>\n",
       "      <td>90%</td>\n",
       "      <td>90%</td>\n",
       "      <td>89%</td>\n",
       "    </tr>\n",
       "  </tbody>\n",
       "</table>\n",
       "</div>"
      ],
      "text/plain": [
       "   1000 750  500  250  100 \n",
       "10  10%  10%  10%  10%  10%\n",
       "20  20%  20%  20%  20%  20%\n",
       "30  30%  30%  30%  30%  30%\n",
       "40  40%  40%  40%  40%  40%\n",
       "50  50%  50%  50%  50%  49%\n",
       "60  60%  60%  60%  60%  59%\n",
       "70  70%  70%  70%  70%  69%\n",
       "80  80%  80%  80%  80%  79%\n",
       "90  90%  90%  90%  90%  89%"
      ]
     },
     "execution_count": 7,
     "metadata": {},
     "output_type": "execute_result"
    }
   ],
   "source": [
    "percents = np.arange(10,100, 10)\n",
    "samples = np.array([100, 250, 500, 750, 1000])[::-1]\n",
    "\n",
    "percents_ = {k:[] for k in percents}\n",
    "\n",
    "for p in percents:\n",
    "    for s in samples:\n",
    "        # percent to prob\n",
    "        prob = p/100\n",
    "\n",
    "        percents_[p].append(binom_conf(s,prob))\n",
    "\n",
    "pew = pd.DataFrame(percents_)\n",
    "pew = pew.T\n",
    "pew.columns = samples\n",
    "\n",
    "pew"
   ]
  },
  {
   "cell_type": "markdown",
   "metadata": {},
   "source": [
    "# 3. Where do these errors come from?\n",
    "\n",
    "It looks like some might come from rounding error. "
   ]
  },
  {
   "cell_type": "markdown",
   "metadata": {},
   "source": []
  }
 ],
 "metadata": {
  "interpreter": {
   "hash": "40d3a090f54c6569ab1632332b64b2c03c39dcf918b08424e98f38b5ae0af88f"
  },
  "kernelspec": {
   "display_name": "Python 3.8.5 64-bit ('base': conda)",
   "name": "python3"
  },
  "language_info": {
   "codemirror_mode": {
    "name": "ipython",
    "version": 3
   },
   "file_extension": ".py",
   "mimetype": "text/x-python",
   "name": "python",
   "nbconvert_exporter": "python",
   "pygments_lexer": "ipython3",
   "version": "3.8.5"
  },
  "orig_nbformat": 4
 },
 "nbformat": 4,
 "nbformat_minor": 2
}
