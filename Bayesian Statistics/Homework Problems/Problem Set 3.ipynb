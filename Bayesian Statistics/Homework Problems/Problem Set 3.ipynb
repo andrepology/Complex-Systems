{
 "cells": [
  {
   "cell_type": "code",
   "execution_count": 75,
   "metadata": {},
   "outputs": [],
   "source": [
    "import scipy.stats as sts\n",
    "import numpy as np\n",
    "\n",
    "import matplotlib.pyplot as plt"
   ]
  },
  {
   "cell_type": "markdown",
   "metadata": {},
   "source": [
    "# Problem 1: Posterior Predictive Checks\n",
    "\n",
    "For the non-hierarchical model and the control group half of the data set, choose a test statistic to show that the non-hierarchical model does not explain the control group data well.\n",
    "\n",
    "## Model Summary\n",
    "\n",
    "This model assumes a fixed probability of success across each control groups $\\theta_{c}$ with uniform prior, a binomial model for data, summarized below. `studies` denotes the sample sizes `n` for each study, while `results` denotes the observed improvements we will benchmark against. The Posterior over $\\theta_{c}$ is $\\text{Beta}(\\theta_{c} | 58, 65)$,"
   ]
  },
  {
   "cell_type": "code",
   "execution_count": 117,
   "metadata": {},
   "outputs": [],
   "source": [
    "studies = np.array([15, 18, 10, 39, 29, 10])\n",
    "outcomes = np.array([9, 11, 4, 21, 12, 0])\n",
    "\n",
    "posterior_alpha = 58\n",
    "posterior_beta = 65\n",
    "\n",
    "# frozen Posterior Dist\n",
    "posterior_control = sts.beta(posterior_alpha, posterior_beta)"
   ]
  },
  {
   "cell_type": "markdown",
   "metadata": {},
   "source": [
    "We will now draw 10,000 samples from the Beta posterior and generate posterior predictives. The procedure is simple: we simulate a replication of the 6 experiments by seeding 6 binomial likelihoods with the $\\theta_{c}$ sample and sample sizes $n_1 ... n_6$ according to the original study size,"
   ]
  },
  {
   "cell_type": "code",
   "execution_count": 211,
   "metadata": {},
   "outputs": [],
   "source": [
    "# Posterior Predictive Samples\n",
    "n = 10000\n",
    "# Arrays for simulated experiment replications\n",
    "samples = np.zeros(\n",
    "    (n, len(studies)),\n",
    "    dtype = np.float16)\n",
    "\n",
    "tests = np.zeros(\n",
    "    (n, len(studies)),\n",
    "    dtype = np.float16)\n",
    "\n",
    "for experiment in range(n):\n",
    "    # Draw theta by sampling posterior\n",
    "    theta_control = posterior_control.rvs()\n",
    "\n",
    "    # Simulate an experiment replication, for each study\n",
    "    for i,study_size in enumerate(studies):\n",
    "\n",
    "        outcome = sts.binom.rvs(study_size, theta_control)\n",
    "        \n",
    "        # Save result\n",
    "        samples[experiment][i] = outcome"
   ]
  },
  {
   "cell_type": "markdown",
   "metadata": {},
   "source": [
    "We have 4 candidate test statistics: these are scalar summaries between two sets of distributions, the observed data and the data replicated in the posterior predictive. To calculate each p-value, we count the number of times the sample statistic is greater than the 'true' test statistic (calculated just once over the observed values),"
   ]
  },
  {
   "cell_type": "code",
   "execution_count": 141,
   "metadata": {},
   "outputs": [],
   "source": [
    "def test_stat(data, stat, **kwargs):\n",
    "    # Compute test stat(str) over data(array) \n",
    "    stats = {\n",
    "        'Mean': np.mean,\n",
    "        'Std': np.std,\n",
    "        'Range': np.ptp,\n",
    "        'Total': np.sum\n",
    "    }\n",
    "\n",
    "    return stats[stat](data, **kwargs)\n",
    "\n",
    "def test(samples, data, stat):\n",
    "    # Test model given samples(matrix), observed data (arr)\n",
    "    # and test stat(str)\n",
    "\n",
    "    # Compute test stat\n",
    "    benchmark = test_stat(data, stat)\n",
    "    stats = test_stat(samples, stat, axis = 1)\n",
    "    \n",
    "    # Compute p-val\n",
    "    p_val = sum(stats > benchmark)/len(stats)\n",
    "\n",
    "    return p_val, benchmark, stats\n"
   ]
  },
  {
   "cell_type": "markdown",
   "metadata": {},
   "source": [
    "A clean visual summary can be found in the plot below,"
   ]
  },
  {
   "cell_type": "code",
   "execution_count": 216,
   "metadata": {},
   "outputs": [
    {
     "data": {
      "image/png": "[encoded data removed]",
      "text/plain": [
       "<Figure size 1440x360 with 4 Axes>"
      ]
     },
     "metadata": {},
     "output_type": "display_data"
    }
   ],
   "source": [
    "stats = ['Mean', 'Std', 'Range', 'Total']\n",
    "\n",
    "fig, axs = plt.subplots(1,len(stats), figsize = (5*len(stats), 5))\n",
    "\n",
    "for ax, stat in zip(axs.flat, stats):\n",
    "    post_hist(samples, outcomes, stat, ax = ax)\n",
    "\n",
    "plt.show()"
   ]
  },
  {
   "cell_type": "markdown",
   "metadata": {},
   "source": [
    "Mean, Total and Standard Deviatio statistics are normally-distributed according to the CLT (both represent linear sums in IID random variables), with a p-value of 0.47, suggesting that the model predicts the mean improvement rate well, as a non-hierarchical model assuming constant improvement rates accross studies should. \n",
    "\n",
    "The standard deviation, on the other hand, has a p-value of 0.12, suggesting that a the model under-predicts the spread in the number of improved patients in the control group. \n",
    "\n",
    "The range has a p-value of 0.03, suggesting that the model severely overestimates the range of the distribution of control-group patient outcomes. In other words, extrema are not well modeled. "
   ]
  },
  {
   "cell_type": "markdown",
   "metadata": {},
   "source": [
    "# Technical Appendix"
   ]
  },
  {
   "cell_type": "code",
   "execution_count": 215,
   "metadata": {},
   "outputs": [],
   "source": [
    "# Technical Appendix\n",
    "\n",
    "def post_hist(\n",
    "    samples,\n",
    "    data,\n",
    "    stat = 'mean',\n",
    " \n",
    "    ax = False,\n",
    "    bins=20, \n",
    "    color='w', \n",
    "    edgecolor='k', \n",
    "    figsize=(5,3), \n",
    "    ):\n",
    "\n",
    "    \n",
    "    plt.style.use('seaborn-ticks')\n",
    "    \n",
    "    if ax == False:\n",
    "        fig = plt.figure(figsize=figsize)\n",
    "        ax = fig.add_subplot(1,1,1)\n",
    "        \n",
    "        p_val, benchmark, x = test(\n",
    "            samples,\n",
    "            data,\n",
    "            stat)\n",
    "        \n",
    "        ax.hist(\n",
    "            x, \n",
    "            bins=bins, \n",
    "            color = color, \n",
    "            edgecolor = edgecolor)\n",
    "\n",
    "        ax.axvline(\n",
    "            benchmark,\n",
    "            color = 'red',\n",
    "            label = f'True {stat} Value = {round(benchmark,2)}'\n",
    "        )\n",
    "\n",
    "        ax.plot(\n",
    "            0,0,',',\n",
    "            label = f'P-val = {round(p_val,2)}')\n",
    "\n",
    "        adjust_spines(ax, ['bottom'])\n",
    "        ax.set_xlabel(f'{stat} Test Statistic Value')\n",
    "        ax.legend(loc = \"best\")\n",
    "\n",
    "        plt.tight_layout()\n",
    "\n",
    "    else:\n",
    "        p_val, benchmark, x = test(\n",
    "            samples,\n",
    "            data,\n",
    "            stat)\n",
    "        \n",
    "        ax.hist(\n",
    "            x, \n",
    "            bins=bins, \n",
    "            color = color, \n",
    "            edgecolor = edgecolor)\n",
    "\n",
    "        ax.axvline(\n",
    "            benchmark,\n",
    "            color = 'red',\n",
    "            label = f'True {stat} Value = {round(benchmark,2)}'\n",
    "        )\n",
    "\n",
    "        ax.plot(\n",
    "            0,0,',',\n",
    "            label = f'P-val = {round(p_val,2)}')\n",
    "\n",
    "        adjust_spines(ax, ['bottom'])\n",
    "        ax.set_xlabel(f'{stat} Test Statistic Value')\n",
    "        ax.legend(loc = \"upper left\")\n",
    "\n",
    "        plt.tight_layout()\n",
    "        \n",
    "\n",
    "\n",
    "def adjust_spines(ax, spines, offset = 0):\n",
    "        for loc, spine in ax.spines.items():\n",
    "            if loc in spines:\n",
    "                spine.set_position(('outward', offset))  # outward by offset points\n",
    "                #spine.set_smart_bounds(True)\n",
    "            else:\n",
    "                spine.set_color('none')\n",
    "        # turn off ticks where there is no spine\n",
    "        if 'left' in spines:\n",
    "            ax.yaxis.set_ticks_position('left')\n",
    "        else:\n",
    "            # no yaxis ticks\n",
    "            ax.yaxis.set_ticks([])\n",
    "\n",
    "        if 'bottom' in spines:\n",
    "            ax.xaxis.set_ticks_position('bottom')\n",
    "        else:\n",
    "            # no xaxis ticks\n",
    "            ax.xaxis.set_ticks([])"
   ]
  },
  {
   "cell_type": "code",
   "execution_count": null,
   "metadata": {},
   "outputs": [],
   "source": []
  }
 ],
 "metadata": {
  "interpreter": {
   "hash": "40d3a090f54c6569ab1632332b64b2c03c39dcf918b08424e98f38b5ae0af88f"
  },
  "kernelspec": {
   "display_name": "Python 3.8.5 64-bit ('base': conda)",
   "language": "python",
   "name": "python3"
  },
  "language_info": {
   "codemirror_mode": {
    "name": "ipython",
    "version": 3
   },
   "file_extension": ".py",
   "mimetype": "text/x-python",
   "name": "python",
   "nbconvert_exporter": "python",
   "pygments_lexer": "ipython3",
   "version": "3.8.5"
  },
  "orig_nbformat": 4
 },
 "nbformat": 4,
 "nbformat_minor": 2
}
