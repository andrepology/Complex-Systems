{
 "cells": [
  {
   "cell_type": "code",
   "execution_count": 1,
   "metadata": {},
   "outputs": [],
   "source": [
    "import scipy.stats as sts \n",
    "import numpy as np\n",
    "import random\n",
    "import matplotlib.pyplot as plt"
   ]
  },
  {
   "cell_type": "code",
   "execution_count": 37,
   "metadata": {},
   "outputs": [
    {
     "data": {
      "text/plain": [
       "[(1, array([1.98846554, 0.9945232 ])),\n",
       " (2, array([1.50225389, 2.00227975])),\n",
       " (3, array([1.32388162, 2.98709177])),\n",
       " (4, array([1.24935963, 4.05673654])),\n",
       " (5, array([1.20440935, 4.94530943])),\n",
       " (6, array([1.1728226 , 5.99320194])),\n",
       " (7, array([1.14684977, 7.04714119])),\n",
       " (8, array([1.12880309, 8.04449801])),\n",
       " (9, array([1.11291778, 9.00142829])),\n",
       " (10, array([ 1.10669945, 10.0426505 ])),\n",
       " (11, array([ 1.10176395, 10.99301092])),\n",
       " (12, array([ 1.08242301, 12.04858661])),\n",
       " (13, array([ 1.08471196, 12.9445214 ])),\n",
       " (14, array([ 1.07675389, 14.01651935])),\n",
       " (15, array([ 1.07040861, 15.08459865])),\n",
       " (16, array([ 1.06223656, 15.93632608])),\n",
       " (17, array([ 1.06368278, 16.90821764])),\n",
       " (18, array([ 1.07043615, 18.05779689])),\n",
       " (19, array([ 1.05415402, 18.94643016])),\n",
       " (20, array([ 1.04169251, 20.27543886])),\n",
       " (21, array([ 1.04222882, 21.29405109])),\n",
       " (22, array([ 1.0552868 , 22.00044599])),\n",
       " (23, array([ 1.05336142, 23.14076773])),\n",
       " (24, array([ 1.03227077, 23.95398046])),\n",
       " (25, array([ 1.04470894, 24.78750158])),\n",
       " (26, array([ 1.05315249, 25.92245991])),\n",
       " (27, array([ 1.0414006 , 27.25230972])),\n",
       " (28, array([ 1.04162857, 28.02035004])),\n",
       " (29, array([ 1.03758977, 29.08415181])),\n",
       " (30, array([ 1.04373739, 30.06473479])),\n",
       " (31, array([ 1.02230665, 31.08553373])),\n",
       " (32, array([ 1.04428453, 31.81749239])),\n",
       " (33, array([ 1.03471157, 32.98783721])),\n",
       " (34, array([ 1.02860583, 33.86855248])),\n",
       " (35, array([ 1.02124969, 35.15230877])),\n",
       " (36, array([ 1.0157733 , 35.66774065])),\n",
       " (37, array([ 1.02740284, 37.30460763])),\n",
       " (38, array([ 1.05043298, 37.83547607])),\n",
       " (39, array([ 1.03658146, 39.37780538])),\n",
       " (40, array([ 1.02693653, 40.03661607])),\n",
       " (41, array([ 1.01734316, 41.02767856])),\n",
       " (42, array([ 1.01002473, 42.00884147])),\n",
       " (43, array([ 1.02199026, 43.22544001])),\n",
       " (44, array([ 1.02279566, 44.3335828 ])),\n",
       " (45, array([ 1.02726841, 45.05253441])),\n",
       " (46, array([ 1.02143957, 45.53418201])),\n",
       " (47, array([ 1.01065366, 47.10114197])),\n",
       " (48, array([ 1.00824135, 47.76853153])),\n",
       " (49, array([ 1.03305649, 48.73105695])),\n",
       " (50, array([ 1.00448687, 50.16825839])),\n",
       " (51, array([ 1.02906192, 51.31007942])),\n",
       " (52, array([ 1.01240861, 52.31655468])),\n",
       " (53, array([ 1.02571129, 53.09620929])),\n",
       " (54, array([ 1.01301651, 53.69409138])),\n",
       " (55, array([ 1.02187254, 54.57673426])),\n",
       " (56, array([ 0.99459024, 56.05678729])),\n",
       " (57, array([ 1.00706267, 56.93913134])),\n",
       " (58, array([ 1.03899334, 57.91455024])),\n",
       " (59, array([ 1.0133212 , 59.73144439])),\n",
       " (60, array([ 1.02780982, 60.63499817])),\n",
       " (61, array([ 1.02094153, 61.78134551])),\n",
       " (62, array([ 1.018666  , 61.94811363])),\n",
       " (63, array([ 1.02724984, 63.11722649])),\n",
       " (64, array([ 1.00986794, 63.73625334])),\n",
       " (65, array([ 1.01495   , 65.19346166])),\n",
       " (66, array([ 1.00407064, 65.31375706])),\n",
       " (67, array([ 1.00620812, 67.1865548 ])),\n",
       " (68, array([ 1.00553147, 67.70855421])),\n",
       " (69, array([ 1.00698365, 68.92993652])),\n",
       " (70, array([ 1.00900879, 69.97361114])),\n",
       " (71, array([ 0.99664957, 71.40827129])),\n",
       " (72, array([ 1.01455778, 72.37935143])),\n",
       " (73, array([ 1.01879132, 73.33670057])),\n",
       " (74, array([ 1.03014246, 74.34631451])),\n",
       " (75, array([ 1.00767322, 74.78012443])),\n",
       " (76, array([ 1.01251976, 76.80255419])),\n",
       " (77, array([ 1.00515709, 77.0884858 ])),\n",
       " (78, array([ 1.01215802, 78.13533424])),\n",
       " (79, array([ 1.00910373, 78.75358883])),\n",
       " (80, array([ 1.0053374, 80.1369665])),\n",
       " (81, array([ 1.01146917, 81.28498122])),\n",
       " (82, array([ 1.01854752, 81.66567095])),\n",
       " (83, array([ 1.01033916, 82.36640156])),\n",
       " (84, array([ 1.00543091, 84.37560014])),\n",
       " (85, array([ 1.00834899, 85.06968895])),\n",
       " (86, array([ 1.01306675, 85.61859504])),\n",
       " (87, array([ 0.99459171, 87.64707573])),\n",
       " (88, array([ 1.006719  , 87.19964211])),\n",
       " (89, array([ 1.01900602, 88.14611634])),\n",
       " (90, array([ 0.99886755, 90.58898296])),\n",
       " (91, array([ 1.02754777, 91.1875481 ])),\n",
       " (92, array([ 1.01519961, 93.50286551])),\n",
       " (93, array([ 1.00679904, 92.14947499])),\n",
       " (94, array([ 1.0204669 , 94.94243383])),\n",
       " (95, array([ 1.01144579, 95.05728383])),\n",
       " (96, array([ 1.01552524, 95.52141574])),\n",
       " (97, array([ 1.01282909, 97.7840335 ])),\n",
       " (98, array([ 1.0065299 , 98.11529099])),\n",
       " (99, array([ 1.01031237, 99.63929586]))]"
      ]
     },
     "execution_count": 37,
     "metadata": {},
     "output_type": "execute_result"
    }
   ],
   "source": [
    "# exp\n",
    "r = []\n",
    "\n",
    "for i in range (1,100):\n",
    "    lambda_ = i\n",
    "    dis = sts.expon(1/lambda_)\n",
    "    s = dis.rvs(10000)\n",
    "\n",
    "    #uniform\n",
    "    dis_u = sts.uniform(0,2*lambda_)\n",
    "    s2 = dis_u.rvs(10000)\n",
    "\n",
    "    r.append((lambda_, np.mean((s,s2), axis = 1)))"
   ]
  },
  {
   "cell_type": "code",
   "execution_count": null,
   "metadata": {},
   "outputs": [],
   "source": [
    "data = {\n",
    "50: 0.00832, 51: 0.00911, 52: 0.00996, 53: 0.01089, 54: 0.01190,\n",
    "55: 0.01300, 56: 0.01421, 57: 0.01554, 58: 0.01700, 59: 0.01859,\n",
    "60: 0.02034, 61: 0.02224, 62: 0.02431, 63: 0.02657, 64: 0.02904,\n",
    "65: 0.03175, 66: 0.03474, 67: 0.03804, 68: 0.04168, 69: 0.04561,\n",
    "70: 0.04979, 71: 0.05415, 72: 0.05865, 73: 0.06326, 74: 0.06812,\n",
    "75: 0.07337, 76: 0.07918, 77: 0.08570, 78: 0.09306, 79: 0.10119,\n",
    "80: 0.10998, 81: 0.11935, 82: 0.12917, 83: 0.13938, 84: 0.15001,\n",
    "85: 0.16114, 86: 0.17282, 87: 0.18513, 88: 0.19825, 89: 0.21246,\n",
    "90: 0.22814, 91: 0.24577, 92: 0.26593, 93: 0.28930, 94: 0.31666,\n",
    "95: 0.35124, 96: 0.40056, 97: 0.48842, 98: 0.66815, 99: 0.72000,\n",
    "100: 0.76000, 101: 0.80000, 102: 0.85000, 103: 0.90000,\n",
    "104: 0.96000, 105: 1.00000}\n",
    "\n",
    "\n",
    "# gen distributions over values\n",
    "\n",
    "t = 1000 \n",
    "\n",
    "for trial in range(t):\n",
    "    bal  = 150000\n",
    "    age = 50\n",
    "    d = 1000\n",
    "    \n",
    "    while d = 1000: \n",
    "        if age < 70: \n",
    "            bal += bal*np.random.normal(0.08,0.9)\n",
    "            bal += 1000\n",
    "\n",
    "        else: \n",
    "            bal += bal*np.random.normal(0.08,0.9)\n",
    "            bal -= 65000\n",
    "\n",
    "            \n"
   ]
  },
  {
   "cell_type": "code",
   "execution_count": 27,
   "metadata": {},
   "outputs": [
    {
     "data": {
      "text/plain": [
       "(array([235.,   0.,   0., 151.,   0.,   0., 103.,   0.,   0., 511.]),\n",
       " array([0. , 0.3, 0.6, 0.9, 1.2, 1.5, 1.8, 2.1, 2.4, 2.7, 3. ]),\n",
       " <BarContainer object of 10 artists>)"
      ]
     },
     "execution_count": 27,
     "metadata": {},
     "output_type": "execute_result"
    },
    {
     "data": {
      "image/png": "[encoded data removed]",
      "text/plain": [
       "<Figure size 432x288 with 1 Axes>"
      ]
     },
     "metadata": {
      "needs_background": "light"
     },
     "output_type": "display_data"
    }
   ],
   "source": [
    "import numpy as np\n",
    "\n",
    "x = [0.8, 0.6, 0.4, 2.0]\n",
    "x = np.array(x)\n",
    "x = x/x.sum()\n",
    "\n",
    "p = np.cumsum(x)\n",
    "\n",
    "sample = p.searchsorted(np.random.uniform(0,1))\n",
    "\n",
    "r = []\n",
    "\n",
    "for i in range(1000):\n",
    "    r.append(p.searchsorted(np.random.uniform(0,1)))\n",
    "\n",
    "\n",
    "plt.hist(r)"
   ]
  }
 ],
 "metadata": {
  "interpreter": {
   "hash": "40d3a090f54c6569ab1632332b64b2c03c39dcf918b08424e98f38b5ae0af88f"
  },
  "kernelspec": {
   "display_name": "Python 3.8.5 64-bit ('base': conda)",
   "name": "python3"
  },
  "language_info": {
   "codemirror_mode": {
    "name": "ipython",
    "version": 3
   },
   "file_extension": ".py",
   "mimetype": "text/x-python",
   "name": "python",
   "nbconvert_exporter": "python",
   "pygments_lexer": "ipython3",
   "version": "3.8.5"
  },
  "orig_nbformat": 4
 },
 "nbformat": 4,
 "nbformat_minor": 2
}
